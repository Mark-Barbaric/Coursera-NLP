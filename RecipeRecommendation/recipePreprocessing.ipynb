{
 "cells": [
  {
   "cell_type": "markdown",
   "metadata": {},
   "source": [
    "## Recipe Data Preprocessing\n",
    "\n",
    "This purpose of this notebook is to determine the best way of preprocessing ingredient information from recipes. The goal is to parse ingredient info into a list of ingredients and their quantities. Starting point is below raw recipe which contains unicode characters.\n",
    "\n",
    "There's two sides to an ingredient line:\n",
    "\n",
    "1. Quantity\n",
    "2. Ingredient\n",
    "\n",
    "Challenge is determining where to split the sentence"
   ]
  },
  {
   "cell_type": "markdown",
   "metadata": {},
   "source": [
    "## Text Preprocessing\n",
    "\n",
    "Using the above raw ingredients list, Text Preprocessing needs to do the below:\n",
    "\n",
    "1. Convert to lower case\n",
    "2. Convert word nums to nums (\"one\" to \"1\")\n",
    "3. Remove unnecessary characters\n",
    "4. Convert unicode fractions (¼)\n",
    "5. Handling ranges 1-2 \n",
    "6. Converting fractions to string nums (1/4 to 0.25)\n",
    "\n",
    "This way the ingredients can be isolated much easier using lists withn recipe_preprocessing class."
   ]
  },
  {
   "cell_type": "code",
   "execution_count": 1,
   "metadata": {},
   "outputs": [],
   "source": [
    "import sys\n",
    "sys.path.append('../')\n",
    "\n",
    "import recipe_preprocessing"
   ]
  },
  {
   "cell_type": "code",
   "execution_count": 2,
   "metadata": {},
   "outputs": [
    {
     "name": "stdout",
     "output_type": "stream",
     "text": [
      "['1', 'cup', 'flour', '▢3', 'tablespoons', 'all', 'purpose', 'flour', '¼-½', 'tsp', 'hot', 'chili', 'powder', '1', 'red', 'pepper']\n"
     ]
    }
   ],
   "source": [
    "lines_to_preprocess = [\n",
    "    'One Cup flour',\n",
    "    \"▢3 tablespoons All Purpose flour\",\n",
    "    '¼-½ tsp hot chili powder',\n",
    "    '1 red pepper',\n",
    "]\n",
    "\n",
    "preprocessed_words = []\n",
    "\n",
    "for line in lines_to_preprocess:\n",
    "    for word in line.split():\n",
    "        preprocessed_word = recipe_preprocessing.preprocess_word(word)\n",
    "        preprocessed_words.append(preprocessed_word)\n",
    "\n",
    "print(preprocessed_words)"
   ]
  },
  {
   "cell_type": "markdown",
   "metadata": {},
   "source": [
    "### Handling unicode fractions\n",
    "\n",
    "This involves handling conversions of VULGAR FRACTIONS, which are special unicode characters that represent fractions. Initial work involves converting them to standard three character words representing fractions \"1⁄4\"."
   ]
  },
  {
   "cell_type": "code",
   "execution_count": 9,
   "metadata": {},
   "outputs": [
    {
     "name": "stdout",
     "output_type": "stream",
     "text": [
      "original length 1\n",
      "1⁄2\n",
      "decomponsed length is 3\n",
      "nums is ['1', '2']\n"
     ]
    }
   ],
   "source": [
    "import unicodedata\n",
    "\n",
    "vulg1 = \"½\"\n",
    "print(f\"original length {len(vulg1)}\")\n",
    "\n",
    "decomposed = unicodedata.normalize('NFKD', vulg1)\n",
    "print(decomposed)\n",
    "print(f\"decomposed length is {len(decomposed)}\")\n",
    "\n",
    "nums = decomposed.split('⁄')\n",
    "print(f\"nums is {nums}\")\n",
    "\n",
    "vulgar_fractions = [\n",
    "    \"½ cup egg\",\n",
    "    \"¼ tspn salt\"\n",
    "]\n"
   ]
  },
  {
   "cell_type": "markdown",
   "metadata": {},
   "source": [
    "### Ingredient List\n",
    "\n",
    "Preprocessing ingredients involves splitting each line in ingredient list, and ignoring words in the below list:\n",
    "\n",
    "1. measure words - cup, gram etc.\n",
    "2. words to ignore\n",
    "3. words representing numbers"
   ]
  },
  {
   "cell_type": "code",
   "execution_count": 1,
   "metadata": {},
   "outputs": [
    {
     "name": "stdout",
     "output_type": "stream",
     "text": [
      "['chicken', 'baby potatoes', 'basil', 'garlic', 'red pepper', 'flour', 'medium pepper', 'hot chili powder', 'paprika', 'large eggs', 'olive oil']\n"
     ]
    }
   ],
   "source": [
    "import sys\n",
    "sys.path.append('../')\n",
    "\n",
    "import recipe_preprocessing\n",
    "\n",
    "ingredient_lines = ['1 oz chicken',\n",
    "'200 grams baby potatoes',\n",
    "'pinch of basil',\n",
    "'3 cloves of garlic',\n",
    "'1 red pepper',\n",
    "'half cup flour',\n",
    "'one medium pepper',\n",
    "'¼-½ tsp hot chili powder',\n",
    "'1/2 teaspoon paprika',\n",
    "'6 large eggs',\n",
    "'2 tablespoons olive oil']\n",
    "\n",
    "words = recipe_preprocessing.get_ingredient_list(ingredient_lines)\n",
    "print(words)"
   ]
  },
  {
   "cell_type": "code",
   "execution_count": 2,
   "metadata": {},
   "outputs": [
    {
     "name": "stdout",
     "output_type": "stream",
     "text": [
      "▢8 ounces whole-wheat elbow noodles (2 cups) ▢10 ounce package frozen chopped broccoli or fresh broccoli florets – cut small ▢10 oz bag of baby spinach or baby kale optional ▢2-3 cloves fresh garlic minced ▢1¾ cups 1% milk divided ▢3 tablespoons All Purpose flour ▢½ teaspoon garlic powder ▢½-1 teaspoon salt ▢¼ teaspoon ground black pepper ▢¾ cup shredded extra-sharp Cheddar cheese ▢¼ cup shredded Parmesan cheese ▢¼-½ teaspoon Dijon mustard omit if you don’t like the flavor of mustard ▢⅛-¼ tsp crushed red pepper\n",
      "['▢8 ounces whole-wheat elbow noodles (2 cups) ▢10 ounce package frozen chopped broccoli or fresh broccoli florets – cut small ▢10 oz bag of baby spinach or baby kale optional ▢2-3 cloves fresh garlic minced ▢1¾ cups 1% milk divided ▢3 tablespoons All Purpose flour ▢½ teaspoon garlic powder ▢½-1 teaspoon salt ▢¼ teaspoon ground black pepper ▢¾ cup shredded extra-sharp Cheddar cheese ▢¼ cup shredded Parmesan cheese ▢¼-½ teaspoon Dijon mustard omit if you don’t like the flavor of mustard ▢⅛-¼ tsp crushed red pepper']\n"
     ]
    }
   ],
   "source": []
  },
  {
   "cell_type": "markdown",
   "metadata": {},
   "source": [
    "### Conclusion\n",
    "\n",
    "Seems to be a pretty good starting point for isolating ingredients from a list of strings of ingredients. Needs to be tested using webscraping."
   ]
  }
 ],
 "metadata": {
  "kernelspec": {
   "display_name": "Python 3.8.10 64-bit",
   "language": "python",
   "name": "python3"
  },
  "language_info": {
   "codemirror_mode": {
    "name": "ipython",
    "version": 3
   },
   "file_extension": ".py",
   "mimetype": "text/x-python",
   "name": "python",
   "nbconvert_exporter": "python",
   "pygments_lexer": "ipython3",
   "version": "3.8.10"
  },
  "orig_nbformat": 4,
  "vscode": {
   "interpreter": {
    "hash": "767d51c1340bd893661ea55ea3124f6de3c7a262a8b4abca0554b478b1e2ff90"
   }
  }
 },
 "nbformat": 4,
 "nbformat_minor": 2
}
