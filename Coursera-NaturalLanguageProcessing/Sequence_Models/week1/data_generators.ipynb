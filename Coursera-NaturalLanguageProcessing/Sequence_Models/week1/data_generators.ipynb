{
 "cells": [
  {
   "cell_type": "markdown",
   "metadata": {},
   "source": [
    "# Data Generators"
   ]
  },
  {
   "cell_type": "code",
   "execution_count": 1,
   "metadata": {},
   "outputs": [],
   "source": [
    "import random as rnd\n",
    "import numpy as np\n"
   ]
  },
  {
   "cell_type": "code",
   "execution_count": 2,
   "metadata": {},
   "outputs": [
    {
     "name": "stdout",
     "output_type": "stream",
     "text": [
      "[1, 2, 3, 4, 1, 2, 3, 4, 1, 2]\n"
     ]
    }
   ],
   "source": [
    "\n",
    "a = [1,2,3,4]\n",
    "b = [0 for i in range(10)]\n",
    "\n",
    "a_size = len(a)\n",
    "b_size = len(b)\n",
    "lines_index = [*range(a_size)]\n",
    "index = 0\n",
    "\n",
    "for i in range(b_size):\n",
    "    if index >= a_size:\n",
    "        index = 0\n",
    "    \n",
    "    b[i] = a[lines_index[index]]\n",
    "    index += 1\n",
    "\n",
    "print(b)"
   ]
  },
  {
   "cell_type": "markdown",
   "metadata": {},
   "source": [
    "## Shuffling data order"
   ]
  },
  {
   "cell_type": "code",
   "execution_count": 25,
   "metadata": {},
   "outputs": [
    {
     "name": "stdout",
     "output_type": "stream",
     "text": [
      "Original order of index: [0, 1, 2, 3]\n",
      "Shuffled order of index: [1, 2, 0, 3]\n",
      "New value order for first batch [2, 3, 1, 4]\n",
      "Shuffled indexes for Batch No. 2 : [1, 3, 0, 2]\n",
      "Values for Batch No. 2: [2, 4, 1, 3]\n",
      "Shuffled indexes for Batch No. 3 : [1, 0, 3, 2]\n",
      "Values for Batch No. 3: [2, 1, 4, 3]\n",
      "Shuffled indexes for Batch No. 4 : [0, 2, 3, 1]\n",
      "Values for Batch No. 4: [1, 3, 4, 2]\n",
      "Final value of b [2, 4, 1, 3, 2, 1, 4, 3, 1, 3]\n"
     ]
    }
   ],
   "source": [
    "a = [1,2,3,4]\n",
    "b = []\n",
    "\n",
    "a_size = len(a)\n",
    "b_size = 10\n",
    "lines_index = [*range(a_size)]\n",
    "print(f\"Original order of index: {lines_index}\")\n",
    "\n",
    "rnd.shuffle(lines_index)\n",
    "print(f\"Shuffled order of index: {lines_index}\")\n",
    "\n",
    "print(f\"New value order for first batch {[a[index] for index in lines_index]}\")\n",
    "batch_counter = 1\n",
    "\n",
    "for i in range(b_size):\n",
    "    if index >= a_size:\n",
    "        index = 0\n",
    "        batch_counter += 1\n",
    "        rnd.shuffle(lines_index)\n",
    "        print(f\"Shuffled indexes for Batch No. {batch_counter} : {lines_index}\")\n",
    "        print(f\"Values for Batch No. {batch_counter}: {[a[index] for index in lines_index]}\")\n",
    "    \n",
    "    b.append(a[lines_index[index]])\n",
    "    index += 1\n",
    "\n",
    "print(f\"Final value of b {b}\")"
   ]
  },
  {
   "cell_type": "code",
   "execution_count": 35,
   "metadata": {},
   "outputs": [],
   "source": [
    "def data_generator(batch_size, data_x, data_y, shuffle=True):\n",
    "    assert(len(data_x) == len(data_y))\n",
    "    data_lng = len(data_x)\n",
    "\n",
    "    index_list = [*range(data_lng)]\n",
    "\n",
    "    if(shuffle):\n",
    "        rnd.shuffle(index_list)\n",
    "    \n",
    "    index = 0\n",
    "\n",
    "    while True:\n",
    "        \n",
    "        X = [0 for i in range(batch_size)]\n",
    "        Y = [0 for i in range(batch_size)]\n",
    "\n",
    "        for i in range(batch_size):\n",
    "            if index >= data_lng:\n",
    "                index = 0\n",
    "\n",
    "                if shuffle:\n",
    "                    rnd.shuffle(index_list)\n",
    "\n",
    "            X[i] = data_x[index_list[index]]\n",
    "            Y[i] = data_y[index_list[index]]\n",
    "\n",
    "            index += 1\n",
    "\n",
    "        yield((X, Y))\n",
    "\n",
    "\n",
    "\n",
    "\n"
   ]
  },
  {
   "cell_type": "code",
   "execution_count": 41,
   "metadata": {},
   "outputs": [],
   "source": [
    "def test_generator():\n",
    "    x = [1,2,3,4]\n",
    "    y = [xi ** 2 for xi in x]\n",
    "\n",
    "    generator = data_generator(3, x, y, shuffle=False)\n",
    "\n",
    "    assert np.allclose(next(generator), ([1,2,3],[1,4,9])), \"First batch does not match\"\n",
    "    assert np.allclose(next(generator), ([4,1,2],[16,1,4])), \"Second batch does not match\"\n",
    "    assert np.allclose(next(generator), ([3,4,1],[9,16,1])), \"Third batch does not match\"\n",
    "\n",
    "\n",
    "test_generator()"
   ]
  }
 ],
 "metadata": {
  "kernelspec": {
   "display_name": "course3",
   "language": "python",
   "name": "python3"
  },
  "language_info": {
   "codemirror_mode": {
    "name": "ipython",
    "version": 3
   },
   "file_extension": ".py",
   "mimetype": "text/x-python",
   "name": "python",
   "nbconvert_exporter": "python",
   "pygments_lexer": "ipython3",
   "version": "3.10.5"
  },
  "orig_nbformat": 4
 },
 "nbformat": 4,
 "nbformat_minor": 2
}
