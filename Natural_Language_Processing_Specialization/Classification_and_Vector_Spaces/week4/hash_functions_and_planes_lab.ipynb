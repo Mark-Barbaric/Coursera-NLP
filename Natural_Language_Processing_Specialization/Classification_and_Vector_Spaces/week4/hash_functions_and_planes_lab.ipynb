{
 "cells": [
  {
   "cell_type": "code",
   "execution_count": 1,
   "metadata": {},
   "outputs": [],
   "source": [
    "import numpy as np\n",
    "import pprint"
   ]
  },
  {
   "cell_type": "code",
   "execution_count": 3,
   "metadata": {},
   "outputs": [
    {
     "name": "stdout",
     "output_type": "stream",
     "text": [
      "{0: [100, 10], 1: [], 2: [], 3: [], 4: [14], 5: [], 6: [], 7: [17, 97], 8: [], 9: []}\n"
     ]
    }
   ],
   "source": [
    "def basic_hash_function(value_l, n_buckets):\n",
    "    def hash_function(value, n_buckets):\n",
    "        return int(value % n_buckets)\n",
    "    \n",
    "    hash_table = {i:[] for i in range(n_buckets)}\n",
    "\n",
    "    for value in value_l:\n",
    "        hash_value = hash_function(value, n_buckets)\n",
    "        hash_table[hash_value].append(value)\n",
    "    \n",
    "    return hash_table\n",
    "\n",
    "value_l = [100, 10, 14, 17, 97]\n",
    "hash_table_example = basic_hash_function(value_l, n_buckets = 10)\n",
    "print(hash_table_example)"
   ]
  }
 ],
 "metadata": {
  "kernelspec": {
   "display_name": "Python 3.8.10 64-bit",
   "language": "python",
   "name": "python3"
  },
  "language_info": {
   "codemirror_mode": {
    "name": "ipython",
    "version": 3
   },
   "file_extension": ".py",
   "mimetype": "text/x-python",
   "name": "python",
   "nbconvert_exporter": "python",
   "pygments_lexer": "ipython3",
   "version": "3.8.10"
  },
  "orig_nbformat": 4,
  "vscode": {
   "interpreter": {
    "hash": "767d51c1340bd893661ea55ea3124f6de3c7a262a8b4abca0554b478b1e2ff90"
   }
  }
 },
 "nbformat": 4,
 "nbformat_minor": 2
}
