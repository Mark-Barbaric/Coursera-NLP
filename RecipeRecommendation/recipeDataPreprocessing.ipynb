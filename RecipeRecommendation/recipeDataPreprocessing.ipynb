{
 "cells": [
  {
   "cell_type": "markdown",
   "metadata": {},
   "source": [
    "## Recipe Data Recommendation\n",
    "\n",
    "Further work developing the recipe_preprocessing class using example dataframe to generate full ingredient list without descriptive words, quantities etc."
   ]
  },
  {
   "cell_type": "code",
   "execution_count": 1,
   "metadata": {},
   "outputs": [],
   "source": [
    "import pandas as pd\n",
    "import numpy as np\n",
    "import ast\n",
    "\n",
    "import sys\n",
    "sys.path.append('../')\n",
    "\n",
    "import recipe_preprocessing"
   ]
  },
  {
   "cell_type": "markdown",
   "metadata": {},
   "source": [
    "### Import Recipe Data and Preprocess Ingredients"
   ]
  },
  {
   "cell_type": "code",
   "execution_count": 2,
   "metadata": {},
   "outputs": [
    {
     "data": {
      "text/html": [
       "<div>\n",
       "<style scoped>\n",
       "    .dataframe tbody tr th:only-of-type {\n",
       "        vertical-align: middle;\n",
       "    }\n",
       "\n",
       "    .dataframe tbody tr th {\n",
       "        vertical-align: top;\n",
       "    }\n",
       "\n",
       "    .dataframe thead th {\n",
       "        text-align: right;\n",
       "    }\n",
       "</style>\n",
       "<table border=\"1\" class=\"dataframe\">\n",
       "  <thead>\n",
       "    <tr style=\"text-align: right;\">\n",
       "      <th></th>\n",
       "      <th>recipe_urls</th>\n",
       "      <th>recipe_name</th>\n",
       "      <th>ingredients</th>\n",
       "    </tr>\n",
       "  </thead>\n",
       "  <tbody>\n",
       "    <tr>\n",
       "      <th>0</th>\n",
       "      <td>https://www.jamieoliver.com/recipes/duck-recip...</td>\n",
       "      <td>Roast duck with Marsala gravy</td>\n",
       "      <td>['1 x 1.6kg whole duck', '2 heaped teaspoons C...</td>\n",
       "    </tr>\n",
       "    <tr>\n",
       "      <th>1</th>\n",
       "      <td>https://www.jamieoliver.com/recipes/vegetable-...</td>\n",
       "      <td>Best-ever Brussels sprouts</td>\n",
       "      <td>['800 g Brussels sprouts', '2 higher-welfare C...</td>\n",
       "    </tr>\n",
       "    <tr>\n",
       "      <th>2</th>\n",
       "      <td>https://www.jamieoliver.com/recipes/pasta-reci...</td>\n",
       "      <td>Beautiful courgette carbonara</td>\n",
       "      <td>['6 medium green and yellow courgettes', '500 ...</td>\n",
       "    </tr>\n",
       "    <tr>\n",
       "      <th>3</th>\n",
       "      <td>https://www.jamieoliver.com/recipes/vegetable-...</td>\n",
       "      <td>Roasted black bean burgers</td>\n",
       "      <td>['1½ red onions', '200 g mixed mushrooms', '10...</td>\n",
       "    </tr>\n",
       "    <tr>\n",
       "      <th>4</th>\n",
       "      <td>https://www.jamieoliver.com/recipes/chicken-re...</td>\n",
       "      <td>Chicken &amp; tofu noodle soup</td>\n",
       "      <td>['2 shallots', '2 cloves of garlic', '2 cm pie...</td>\n",
       "    </tr>\n",
       "    <tr>\n",
       "      <th>...</th>\n",
       "      <td>...</td>\n",
       "      <td>...</td>\n",
       "      <td>...</td>\n",
       "    </tr>\n",
       "    <tr>\n",
       "      <th>4642</th>\n",
       "      <td>https://www.allrecipes.com/recipe/213809/thai-...</td>\n",
       "      <td>Thai-Style Steamed Pumpkin Cake Recipe - Allre...</td>\n",
       "      <td>[\"1 (2 pound) pumpkin - peeled, seeded, and gr...</td>\n",
       "    </tr>\n",
       "    <tr>\n",
       "      <th>4643</th>\n",
       "      <td>https://www.allrecipes.com/recipe/41751/delici...</td>\n",
       "      <td>Delicious Spicy Tomato Salad Recipe - Allrecip...</td>\n",
       "      <td>[\"1 apple - peeled, cored and sliced\",\"1 chile...</td>\n",
       "    </tr>\n",
       "    <tr>\n",
       "      <th>4644</th>\n",
       "      <td>https://www.allrecipes.com/recipe/264507/spicy...</td>\n",
       "      <td>Spicy Sriracha Meatballs Recipe - Allrecipes.com</td>\n",
       "      <td>[\"1 egg\",\"1 lime, zested\",\"1 tablespoon creamy...</td>\n",
       "    </tr>\n",
       "    <tr>\n",
       "      <th>4645</th>\n",
       "      <td>https://www.allrecipes.com/recipe/264012/ajad-...</td>\n",
       "      <td>Ajad (Authentic Thai Cucumber Salad) Recipe - ...</td>\n",
       "      <td>[\"1 1/2 teaspoons salt\",\"1/2 cup white vinegar...</td>\n",
       "    </tr>\n",
       "    <tr>\n",
       "      <th>4646</th>\n",
       "      <td>https://www.allrecipes.com/recipe/240387/sweet...</td>\n",
       "      <td>Sweet Thai-Style Chicken Bowl Recipe - Allreci...</td>\n",
       "      <td>[\"1 (14 ounce) can coconut milk\",\"1 1/2 cups j...</td>\n",
       "    </tr>\n",
       "  </tbody>\n",
       "</table>\n",
       "<p>4647 rows × 3 columns</p>\n",
       "</div>"
      ],
      "text/plain": [
       "                                            recipe_urls  \\\n",
       "0     https://www.jamieoliver.com/recipes/duck-recip...   \n",
       "1     https://www.jamieoliver.com/recipes/vegetable-...   \n",
       "2     https://www.jamieoliver.com/recipes/pasta-reci...   \n",
       "3     https://www.jamieoliver.com/recipes/vegetable-...   \n",
       "4     https://www.jamieoliver.com/recipes/chicken-re...   \n",
       "...                                                 ...   \n",
       "4642  https://www.allrecipes.com/recipe/213809/thai-...   \n",
       "4643  https://www.allrecipes.com/recipe/41751/delici...   \n",
       "4644  https://www.allrecipes.com/recipe/264507/spicy...   \n",
       "4645  https://www.allrecipes.com/recipe/264012/ajad-...   \n",
       "4646  https://www.allrecipes.com/recipe/240387/sweet...   \n",
       "\n",
       "                                            recipe_name  \\\n",
       "0                         Roast duck with Marsala gravy   \n",
       "1                            Best-ever Brussels sprouts   \n",
       "2                         Beautiful courgette carbonara   \n",
       "3                            Roasted black bean burgers   \n",
       "4                            Chicken & tofu noodle soup   \n",
       "...                                                 ...   \n",
       "4642  Thai-Style Steamed Pumpkin Cake Recipe - Allre...   \n",
       "4643  Delicious Spicy Tomato Salad Recipe - Allrecip...   \n",
       "4644   Spicy Sriracha Meatballs Recipe - Allrecipes.com   \n",
       "4645  Ajad (Authentic Thai Cucumber Salad) Recipe - ...   \n",
       "4646  Sweet Thai-Style Chicken Bowl Recipe - Allreci...   \n",
       "\n",
       "                                            ingredients  \n",
       "0     ['1 x 1.6kg whole duck', '2 heaped teaspoons C...  \n",
       "1     ['800 g Brussels sprouts', '2 higher-welfare C...  \n",
       "2     ['6 medium green and yellow courgettes', '500 ...  \n",
       "3     ['1½ red onions', '200 g mixed mushrooms', '10...  \n",
       "4     ['2 shallots', '2 cloves of garlic', '2 cm pie...  \n",
       "...                                                 ...  \n",
       "4642  [\"1 (2 pound) pumpkin - peeled, seeded, and gr...  \n",
       "4643  [\"1 apple - peeled, cored and sliced\",\"1 chile...  \n",
       "4644  [\"1 egg\",\"1 lime, zested\",\"1 tablespoon creamy...  \n",
       "4645  [\"1 1/2 teaspoons salt\",\"1/2 cup white vinegar...  \n",
       "4646  [\"1 (14 ounce) can coconut milk\",\"1 1/2 cups j...  \n",
       "\n",
       "[4647 rows x 3 columns]"
      ]
     },
     "execution_count": 2,
     "metadata": {},
     "output_type": "execute_result"
    }
   ],
   "source": [
    "recipe_df = pd.read_csv('df_recipes.csv')\n",
    "recipe_df"
   ]
  },
  {
   "cell_type": "code",
   "execution_count": 3,
   "metadata": {},
   "outputs": [
    {
     "data": {
      "text/plain": [
       "0       [1 x 1.6kg whole duck, 2 heaped teaspoons Chin...\n",
       "1       [800 g Brussels sprouts, 2 higher-welfare Cumb...\n",
       "2       [6 medium green and yellow courgettes, 500 g p...\n",
       "3       [1½ red onions, 200 g mixed mushrooms, 100 g r...\n",
       "4       [2 shallots, 2 cloves of garlic, 2 cm piece of...\n",
       "                              ...                        \n",
       "4642    [1 (2 pound) pumpkin - peeled, seeded, and gra...\n",
       "4643    [1 apple - peeled, cored and sliced, 1 chile p...\n",
       "4644    [1 egg, 1 lime, zested, 1 tablespoon creamy pe...\n",
       "4645    [1 1/2 teaspoons salt, 1/2 cup white vinegar, ...\n",
       "4646    [1 (14 ounce) can coconut milk, 1 1/2 cups jas...\n",
       "Name: ingredients, Length: 4647, dtype: object"
      ]
     },
     "execution_count": 3,
     "metadata": {},
     "output_type": "execute_result"
    }
   ],
   "source": [
    "ingredients = recipe_df['ingredients']\n",
    "recipe_df['ingredients'] = recipe_df['ingredients'].apply(lambda x: ast.literal_eval(x))\n",
    "recipe_df['ingredients']"
   ]
  },
  {
   "cell_type": "markdown",
   "metadata": {},
   "source": [
    "### Ingredients preprocessing\n",
    "\n",
    "Involves using the recipe_preprocessing class to convert ingredients list to isolated list of ingredients"
   ]
  },
  {
   "cell_type": "code",
   "execution_count": 4,
   "metadata": {},
   "outputs": [
    {
     "name": "stdout",
     "output_type": "stream",
     "text": [
      "ingredients are ['1 x 1.6kg whole duck', '2 heaped teaspoons Chinese five-spice powder', '1 clementine', '6 fresh bay leaves', 'GRAVY', '', '1 bulb of garlic', '2 carrots', '2 red onions', '3 tablespoons plain flour', '100 ml Marsala', '1 litre organic chicken stock'], len is 12\n"
     ]
    }
   ],
   "source": [
    "ingredients1 = recipe_df['ingredients'][0]\n",
    "print(f\"ingredients are {ingredients1}, len is {len(ingredients1)}\")"
   ]
  },
  {
   "cell_type": "code",
   "execution_count": 7,
   "metadata": {},
   "outputs": [
    {
     "data": {
      "text/plain": [
       "['1.6kg duck',\n",
       " 'teaspoons chinese five-spice powder',\n",
       " 'clementine',\n",
       " 'fresh bay leaves',\n",
       " 'gravy',\n",
       " '',\n",
       " 'garlic',\n",
       " 'carrots',\n",
       " 'red onions',\n",
       " 'tablespoons plain flour',\n",
       " 'marsala',\n",
       " 'organic chicken stock']"
      ]
     },
     "execution_count": 7,
     "metadata": {},
     "output_type": "execute_result"
    }
   ],
   "source": [
    "test_list1 = recipe_preprocessing.get_ingredient_list(ingredients1)\n",
    "test_list1"
   ]
  },
  {
   "cell_type": "markdown",
   "metadata": {},
   "source": [
    "Few issues have come in with preprocessing of data. \n",
    "\n",
    "1. Need to do stemming of measure words. tablespoon is currently in list but tablespoons was not excluded.\n",
    "2. Need to remove descriptive words (\"red\", \"fresh\")\n",
    "3. May be issue with parsing ingredients with syntax like \"1.6kg\"\n",
    "4. Need to exclude empty strings"
   ]
  },
  {
   "cell_type": "code",
   "execution_count": 68,
   "metadata": {},
   "outputs": [
    {
     "data": {
      "text/plain": [
       "0       [x 1.6kg whole duck, heaped teaspoons chinese ...\n",
       "1       [brussels sprouts, higher-welfare cumberland s...\n",
       "2       [medium green and yellow courgettes, penne, la...\n",
       "3       [red onions, mixed mushrooms, rye bread, groun...\n",
       "4       [shallots, garlic, cm piece ginger, free-range...\n",
       "                              ...                        \n",
       "4642    [(2 pound) pumpkin - peeled, seeded, and grate...\n",
       "4643    [apple - peeled, cored and sliced, chile peppe...\n",
       "4644    [egg, lime, zested, tablespoon creamy peanut b...\n",
       "4645    [teaspoons salt, white vinegar, water, thai bi...\n",
       "4646    [(14 ounce) can coconut milk, cups jasmine ric...\n",
       "Name: ingredients_parsed, Length: 4647, dtype: object"
      ]
     },
     "execution_count": 68,
     "metadata": {},
     "output_type": "execute_result"
    }
   ],
   "source": [
    "\"\"\"\n",
    "recipe_df['ingredients_parsed'] = recipe_df['ingredients'].apply(\n",
    "    lambda x: recipe_preprocessing.get_ingredient_list(x)\n",
    ")\n",
    "\n",
    "recipe_df['ingredients_parsed']\n",
    "\"\"\""
   ]
  }
 ],
 "metadata": {
  "kernelspec": {
   "display_name": "Python 3.8.10 64-bit",
   "language": "python",
   "name": "python3"
  },
  "language_info": {
   "codemirror_mode": {
    "name": "ipython",
    "version": 3
   },
   "file_extension": ".py",
   "mimetype": "text/x-python",
   "name": "python",
   "nbconvert_exporter": "python",
   "pygments_lexer": "ipython3",
   "version": "3.8.10"
  },
  "orig_nbformat": 4,
  "vscode": {
   "interpreter": {
    "hash": "767d51c1340bd893661ea55ea3124f6de3c7a262a8b4abca0554b478b1e2ff90"
   }
  }
 },
 "nbformat": 4,
 "nbformat_minor": 2
}
