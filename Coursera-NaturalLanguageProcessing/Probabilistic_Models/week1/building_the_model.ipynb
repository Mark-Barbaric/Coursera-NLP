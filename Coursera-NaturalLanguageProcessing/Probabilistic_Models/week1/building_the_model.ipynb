{
 "cells": [
  {
   "cell_type": "markdown",
   "metadata": {},
   "source": [
    "# Candidates from string edits"
   ]
  },
  {
   "cell_type": "code",
   "execution_count": 1,
   "metadata": {},
   "outputs": [],
   "source": [
    "word = \"dearz\""
   ]
  },
  {
   "cell_type": "code",
   "execution_count": 3,
   "metadata": {},
   "outputs": [
    {
     "name": "stdout",
     "output_type": "stream",
     "text": [
      "['', 'dearz']\n",
      "['d', 'earz']\n",
      "['de', 'arz']\n",
      "['dea', 'rz']\n",
      "['dear', 'z']\n",
      "['dearz', '']\n"
     ]
    }
   ],
   "source": [
    "# find all the ways you can split a string in two\n",
    "\n",
    "splits_a = []\n",
    "\n",
    "for i in range(len(word) + 1):\n",
    "    splits_a.append([word[:i], word[i:]])\n",
    "\n",
    "\n",
    "for i in splits_a:\n",
    "    print(i)"
   ]
  },
  {
   "cell_type": "code",
   "execution_count": 5,
   "metadata": {},
   "outputs": [
    {
     "name": "stdout",
     "output_type": "stream",
     "text": [
      "['', 'dearz']\n",
      "['d', 'earz']\n",
      "['de', 'arz']\n",
      "['dea', 'rz']\n",
      "['dear', 'z']\n",
      "['dearz', '']\n"
     ]
    }
   ],
   "source": [
    "splits_b = [[word[:i], word[i:]] for i in range(len(word) + 1)]\n",
    "\n",
    "for i in splits_b:\n",
    "    print(i)"
   ]
  },
  {
   "cell_type": "markdown",
   "metadata": {},
   "source": [
    "## Delete edit"
   ]
  },
  {
   "cell_type": "code",
   "execution_count": 7,
   "metadata": {},
   "outputs": [
    {
     "name": "stdout",
     "output_type": "stream",
     "text": [
      "word : dearz\n",
      "earz <--- delete d\n",
      "darz <--- delete e\n",
      "derz <--- delete a\n",
      "deaz <--- delete r\n",
      "dear <--- delete z\n"
     ]
    }
   ],
   "source": [
    "# delete the leading letter in each split\n",
    "\n",
    "splits = splits_a\n",
    "deletes = []\n",
    "\n",
    "print(f\"word : {word}\")\n",
    "\n",
    "for L,R in splits:\n",
    "    if R:\n",
    "        print(f\"{L + R[1:]} <--- delete {R[0]}\")"
   ]
  },
  {
   "cell_type": "code",
   "execution_count": 8,
   "metadata": {},
   "outputs": [
    {
     "name": "stdout",
     "output_type": "stream",
     "text": [
      "['earz', 'darz', 'derz', 'deaz', 'dear', 'dearz']\n"
     ]
    }
   ],
   "source": [
    "deletes = [L + R[1:] for L,R in splits]\n",
    "\n",
    "print(deletes)"
   ]
  },
  {
   "cell_type": "markdown",
   "metadata": {},
   "source": [
    "## Ungraded exercise"
   ]
  },
  {
   "cell_type": "code",
   "execution_count": 10,
   "metadata": {},
   "outputs": [
    {
     "name": "stdout",
     "output_type": "stream",
     "text": [
      "vocab: ['dean', 'deer', 'dear', 'fries', 'and', 'coke']\n",
      "edits: ['earz', 'darz', 'derz', 'deaz', 'dear', 'dearz']\n",
      "['dear']\n"
     ]
    }
   ],
   "source": [
    "vocab = ['dean', 'deer', 'dear', 'fries', 'and', 'coke']\n",
    "edits = list(deletes)\n",
    "\n",
    "print(f\"vocab: {vocab}\")\n",
    "print(f\"edits: {edits}\")\n",
    "\n",
    "candidates = []\n",
    "\n",
    "for edit in edits:\n",
    "    if edit in vocab:\n",
    "        candidates.append(edit)\n",
    "\n",
    "print(candidates)"
   ]
  },
  {
   "cell_type": "markdown",
   "metadata": {},
   "source": []
  }
 ],
 "metadata": {
  "kernelspec": {
   "display_name": "Python 3.8.10 64-bit",
   "language": "python",
   "name": "python3"
  },
  "language_info": {
   "codemirror_mode": {
    "name": "ipython",
    "version": 3
   },
   "file_extension": ".py",
   "mimetype": "text/x-python",
   "name": "python",
   "nbconvert_exporter": "python",
   "pygments_lexer": "ipython3",
   "version": "3.8.10"
  },
  "orig_nbformat": 4,
  "vscode": {
   "interpreter": {
    "hash": "e7370f93d1d0cde622a1f8e1c04877d8463912d04d973331ad4851f04de6915a"
   }
  }
 },
 "nbformat": 4,
 "nbformat_minor": 2
}
