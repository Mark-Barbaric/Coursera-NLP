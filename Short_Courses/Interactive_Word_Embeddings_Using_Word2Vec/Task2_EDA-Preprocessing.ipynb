{
 "cells": [
  {
   "cell_type": "markdown",
   "metadata": {},
   "source": [
    "# Interactive Recommendation System with Word Embeddings using Word2Vec, Plotly, and NetworkX\n",
    "\n",
    "## Project Breakdown\n",
    "- Task 1: Introduction\n",
    "- Task 2: Exploratory Data Analysis and Preprocessing (you are here)\n",
    "- Task 3: Word2Vec with Gensim\n",
    "- Task 4: Exploring Results\n",
    "- Task 5: Building and Visualizing Interactive Network Graph\n",
    "\n",
    "## Task 2: Exploratory Data Analysis and Preprocessing\n",
    "\n",
    "[This is the dataset](https://eightportions.com/datasets/Recipes/#fn:1) we will be using. It is collated by Ryan Lee, sourced from [Food Network](https://www.foodnetwork.com/), [Epicurious](https://www.epicurious.com/), and [Allrecipes](https://www.allrecipes.com/)."
   ]
  },
  {
   "cell_type": "code",
   "execution_count": 1,
   "metadata": {},
   "outputs": [],
   "source": [
    "from gensim.parsing.preprocessing import remove_stopwords\n",
    "from tqdm import tqdm\n",
    "import pandas as pd\n",
    "import pickle\n",
    "import string\n",
    "import json"
   ]
  },
  {
   "cell_type": "code",
   "execution_count": 2,
   "metadata": {},
   "outputs": [],
   "source": [
    "recipe_sources = ['ar', 'epi', 'fn']"
   ]
  },
  {
   "cell_type": "code",
   "execution_count": 3,
   "metadata": {},
   "outputs": [],
   "source": [
    "df = pd.DataFrame()\n",
    "sources, titles, ingredients, instructions = [], [], [], []\n",
    "for recipe_source in recipe_sources:\n",
    "    data = json.load(open(f'Data/Dataset/recipes_raw_nosource_{recipe_source}.json', 'r'))\n",
    "    for _, recipe in data.items():\n",
    "        if ('title' in recipe) and ('ingredients' in recipe) and ('instructions' in recipe):\n",
    "            # append to a list of the source\n",
    "            sources.append(recipe_source)\n",
    "            # append to a list of the titles\n",
    "            titles.append(recipe['title'])\n",
    "            # append to a list of a list of ingredients, removing the word ADVERTISEMENT\n",
    "            ingredients.append([ingredient_line.replace('ADVERTISEMENT', '') for ingredient_line in recipe['ingredients']])\n",
    "            # append to a silst of instructions, remmoving the word ADVERTISEMENT and replace \\n with space characters\n",
    "            new_instruction = recipe.get('instructions', '')\n",
    "            \n",
    "            if new_instruction:\n",
    "                new_instruction.replace('ADVERTISEMENT', '')\n",
    "                new_instruction.replace('\\n', ' ')\n",
    "                \n",
    "            instructions.append(new_instruction)\n",
    "            \n",
    "df['source'] = sources\n",
    "df['title'] = titles\n",
    "df['ingredients'] = ingredients\n",
    "df['instructions'] = instructions"
   ]
  },
  {
   "cell_type": "code",
   "execution_count": 4,
   "metadata": {},
   "outputs": [
    {
     "data": {
      "text/html": [
       "<div>\n",
       "<style scoped>\n",
       "    .dataframe tbody tr th:only-of-type {\n",
       "        vertical-align: middle;\n",
       "    }\n",
       "\n",
       "    .dataframe tbody tr th {\n",
       "        vertical-align: top;\n",
       "    }\n",
       "\n",
       "    .dataframe thead th {\n",
       "        text-align: right;\n",
       "    }\n",
       "</style>\n",
       "<table border=\"1\" class=\"dataframe\">\n",
       "  <thead>\n",
       "    <tr style=\"text-align: right;\">\n",
       "      <th></th>\n",
       "      <th>source</th>\n",
       "      <th>title</th>\n",
       "      <th>ingredients</th>\n",
       "      <th>instructions</th>\n",
       "    </tr>\n",
       "  </thead>\n",
       "  <tbody>\n",
       "    <tr>\n",
       "      <th>0</th>\n",
       "      <td>ar</td>\n",
       "      <td>Slow Cooker Chicken and Dumplings</td>\n",
       "      <td>[4 skinless, boneless chicken breast halves , ...</td>\n",
       "      <td>Place the chicken, butter, soup, and onion in ...</td>\n",
       "    </tr>\n",
       "    <tr>\n",
       "      <th>1</th>\n",
       "      <td>ar</td>\n",
       "      <td>Awesome Slow Cooker Pot Roast</td>\n",
       "      <td>[2 (10.75 ounce) cans condensed cream of mushr...</td>\n",
       "      <td>In a slow cooker, mix cream of mushroom soup, ...</td>\n",
       "    </tr>\n",
       "    <tr>\n",
       "      <th>2</th>\n",
       "      <td>ar</td>\n",
       "      <td>Brown Sugar Meatloaf</td>\n",
       "      <td>[1/2 cup packed brown sugar , 1/2 cup ketchup ...</td>\n",
       "      <td>Preheat oven to 350 degrees F (175 degrees C)....</td>\n",
       "    </tr>\n",
       "    <tr>\n",
       "      <th>3</th>\n",
       "      <td>ar</td>\n",
       "      <td>Best Chocolate Chip Cookies</td>\n",
       "      <td>[1 cup butter, softened , 1 cup white sugar , ...</td>\n",
       "      <td>Preheat oven to 350 degrees F (175 degrees C)....</td>\n",
       "    </tr>\n",
       "    <tr>\n",
       "      <th>4</th>\n",
       "      <td>ar</td>\n",
       "      <td>Homemade Mac and Cheese Casserole</td>\n",
       "      <td>[8 ounces whole wheat rotini pasta , 3 cups fr...</td>\n",
       "      <td>Preheat oven to 350 degrees F. Line a 2-quart ...</td>\n",
       "    </tr>\n",
       "  </tbody>\n",
       "</table>\n",
       "</div>"
      ],
      "text/plain": [
       "  source                              title  \\\n",
       "0     ar  Slow Cooker Chicken and Dumplings   \n",
       "1     ar      Awesome Slow Cooker Pot Roast   \n",
       "2     ar               Brown Sugar Meatloaf   \n",
       "3     ar        Best Chocolate Chip Cookies   \n",
       "4     ar  Homemade Mac and Cheese Casserole   \n",
       "\n",
       "                                         ingredients  \\\n",
       "0  [4 skinless, boneless chicken breast halves , ...   \n",
       "1  [2 (10.75 ounce) cans condensed cream of mushr...   \n",
       "2  [1/2 cup packed brown sugar , 1/2 cup ketchup ...   \n",
       "3  [1 cup butter, softened , 1 cup white sugar , ...   \n",
       "4  [8 ounces whole wheat rotini pasta , 3 cups fr...   \n",
       "\n",
       "                                        instructions  \n",
       "0  Place the chicken, butter, soup, and onion in ...  \n",
       "1  In a slow cooker, mix cream of mushroom soup, ...  \n",
       "2  Preheat oven to 350 degrees F (175 degrees C)....  \n",
       "3  Preheat oven to 350 degrees F (175 degrees C)....  \n",
       "4  Preheat oven to 350 degrees F. Line a 2-quart ...  "
      ]
     },
     "execution_count": 4,
     "metadata": {},
     "output_type": "execute_result"
    }
   ],
   "source": [
    "df.head()"
   ]
  },
  {
   "cell_type": "code",
   "execution_count": 5,
   "metadata": {},
   "outputs": [],
   "source": [
    "df.dropna(inplace=True)"
   ]
  },
  {
   "cell_type": "code",
   "execution_count": 6,
   "metadata": {},
   "outputs": [
    {
     "data": {
      "text/plain": [
       "source          0\n",
       "title           0\n",
       "ingredients     0\n",
       "instructions    0\n",
       "dtype: int64"
      ]
     },
     "execution_count": 6,
     "metadata": {},
     "output_type": "execute_result"
    }
   ],
   "source": [
    "df.isna().sum()"
   ]
  },
  {
   "cell_type": "code",
   "execution_count": 7,
   "metadata": {},
   "outputs": [],
   "source": [
    "to_remove = [\n",
    "    'tablespoon',\n",
    "    'tablespoons',\n",
    "    'teaspoon',\n",
    "    'teaspoons',\n",
    "    'tsp',\n",
    "    'tsps',\n",
    "    'tbsp',\n",
    "    'tbsps',\n",
    "    'pound',\n",
    "    'pounds',\n",
    "    'grams',\n",
    "    'mg',\n",
    "    'ounce'\n",
    "    'ounces',\n",
    "    'kg',\n",
    "    'crushed',\n",
    "    'chopped',\n",
    "    'finely',\n",
    "    'softened',\n",
    "    'cups',\n",
    "    'cup'\n",
    "]"
   ]
  },
  {
   "cell_type": "code",
   "execution_count": 8,
   "metadata": {},
   "outputs": [],
   "source": [
    "translation_table = str.maketrans('','',string.punctuation + string.digits)"
   ]
  },
  {
   "cell_type": "code",
   "execution_count": 9,
   "metadata": {},
   "outputs": [
    {
     "data": {
      "text/plain": [
       "'how about for time thanks'"
      ]
     },
     "execution_count": 9,
     "metadata": {},
     "output_type": "execute_result"
    }
   ],
   "source": [
    "stopwords = [\"on\", \"this\"]\n",
    "str1 = \"how about on for this time thanks\"\n",
    "str1 = remove_stopwords(str1, stopwords)\n",
    "str1"
   ]
  },
  {
   "cell_type": "code",
   "execution_count": 10,
   "metadata": {},
   "outputs": [],
   "source": [
    "def preprocess(items):\n",
    "    # fill me in!\n",
    "    res = []\n",
    "    \n",
    "    for item in items:\n",
    "        temp = item.lower().replace('-', ' ')\n",
    "        temp = temp.translate(translation_table)\n",
    "        temp = remove_stopwords(temp, to_remove)\n",
    "        res.append(temp.split())\n",
    "        \n",
    "    return res"
   ]
  },
  {
   "cell_type": "code",
   "execution_count": 11,
   "metadata": {},
   "outputs": [],
   "source": [
    "instructions = df['instructions'].to_list()\n",
    "ingredients = [','.join(s) for s in df['ingredients'].to_list()]"
   ]
  },
  {
   "cell_type": "code",
   "execution_count": 12,
   "metadata": {},
   "outputs": [
    {
     "data": {
      "text/plain": [
       "('Place the chicken, butter, soup, and onion in a slow cooker, and fill with enough water to cover.\\nCover, and cook for 5 to 6 hours on High. About 30 minutes before serving, place the torn biscuit dough in the slow cooker. Cook until the dough is no longer raw in the center.\\n',\n",
       " '4 skinless, boneless chicken breast halves ,2 tablespoons butter ,2 (10.75 ounce) cans condensed cream of chicken soup ,1 onion, finely diced ,2 (10 ounce) packages refrigerated biscuit dough, torn into pieces ,')"
      ]
     },
     "execution_count": 12,
     "metadata": {},
     "output_type": "execute_result"
    }
   ],
   "source": [
    "instructions[0], ingredients[0]"
   ]
  },
  {
   "cell_type": "code",
   "execution_count": 13,
   "metadata": {},
   "outputs": [],
   "source": [
    "train_data = preprocess(instructions + ingredients)"
   ]
  },
  {
   "cell_type": "code",
   "execution_count": 14,
   "metadata": {},
   "outputs": [
    {
     "data": {
      "text/plain": [
       "['place',\n",
       " 'the',\n",
       " 'chicken',\n",
       " 'butter',\n",
       " 'soup',\n",
       " 'and',\n",
       " 'onion',\n",
       " 'in',\n",
       " 'a',\n",
       " 'slow',\n",
       " 'cooker',\n",
       " 'and',\n",
       " 'fill',\n",
       " 'with',\n",
       " 'enough',\n",
       " 'water',\n",
       " 'to',\n",
       " 'cover',\n",
       " 'cover',\n",
       " 'and',\n",
       " 'cook',\n",
       " 'for',\n",
       " 'to',\n",
       " 'hours',\n",
       " 'on',\n",
       " 'high',\n",
       " 'about',\n",
       " 'minutes',\n",
       " 'before',\n",
       " 'serving',\n",
       " 'place',\n",
       " 'the',\n",
       " 'torn',\n",
       " 'biscuit',\n",
       " 'dough',\n",
       " 'in',\n",
       " 'the',\n",
       " 'slow',\n",
       " 'cooker',\n",
       " 'cook',\n",
       " 'until',\n",
       " 'the',\n",
       " 'dough',\n",
       " 'is',\n",
       " 'no',\n",
       " 'longer',\n",
       " 'raw',\n",
       " 'in',\n",
       " 'the',\n",
       " 'center']"
      ]
     },
     "execution_count": 14,
     "metadata": {},
     "output_type": "execute_result"
    }
   ],
   "source": [
    "train_data[0]"
   ]
  },
  {
   "cell_type": "code",
   "execution_count": 15,
   "metadata": {},
   "outputs": [
    {
     "ename": "",
     "evalue": "",
     "output_type": "error",
     "traceback": [
      "\u001b[1;31mThe Kernel crashed while executing code in the current cell or a previous cell. \n",
      "\u001b[1;31mPlease review the code in the cell(s) to identify a possible cause of the failure. \n",
      "\u001b[1;31mClick <a href='https://aka.ms/vscodeJupyterKernelCrash'>here</a> for more info. \n",
      "\u001b[1;31mView Jupyter <a href='command:jupyter.viewOutput'>log</a> for further details."
     ]
    }
   ],
   "source": [
    "with open('Data/train_data.pkl', 'wb') as f:\n",
    "    pickle.dump(train_data, f)"
   ]
  }
 ],
 "metadata": {
  "kernelspec": {
   "display_name": "Python 3",
   "language": "python",
   "name": "python3"
  },
  "language_info": {
   "codemirror_mode": {
    "name": "ipython",
    "version": 3
   },
   "file_extension": ".py",
   "mimetype": "text/x-python",
   "name": "python",
   "nbconvert_exporter": "python",
   "pygments_lexer": "ipython3",
   "version": "3.10.12"
  }
 },
 "nbformat": 4,
 "nbformat_minor": 4
}
