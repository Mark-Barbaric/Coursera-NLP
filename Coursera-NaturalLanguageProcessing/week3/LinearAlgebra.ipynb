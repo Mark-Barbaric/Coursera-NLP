{
 "cells": [
  {
   "cell_type": "markdown",
   "metadata": {},
   "source": [
    "# Linear Algebra with Numpy"
   ]
  },
  {
   "cell_type": "code",
   "execution_count": 1,
   "metadata": {},
   "outputs": [],
   "source": [
    "import numpy as np"
   ]
  },
  {
   "cell_type": "markdown",
   "metadata": {},
   "source": [
    "## Defining lists and numpy arrays"
   ]
  },
  {
   "cell_type": "code",
   "execution_count": 2,
   "metadata": {},
   "outputs": [
    {
     "data": {
      "text/plain": [
       "array([1, 2, 3, 4, 5])"
      ]
     },
     "execution_count": 2,
     "metadata": {},
     "output_type": "execute_result"
    }
   ],
   "source": [
    "py_list = [1,2,3,4,5]\n",
    "np_array = np.array(py_list)\n",
    "np_array"
   ]
  },
  {
   "cell_type": "code",
   "execution_count": 3,
   "metadata": {},
   "outputs": [
    {
     "name": "stdout",
     "output_type": "stream",
     "text": [
      "[1, 2, 3, 4, 5]\n",
      "[1 2 3 4 5]\n",
      "<class 'list'>\n",
      "<class 'numpy.ndarray'>\n"
     ]
    }
   ],
   "source": [
    "print(py_list)\n",
    "print(np_array)\n",
    "print(type(py_list))\n",
    "print(type(np_array))\n"
   ]
  },
  {
   "cell_type": "markdown",
   "metadata": {},
   "source": [
    "## Algebraic operators on Numpy arrays vs Python Lists"
   ]
  },
  {
   "cell_type": "code",
   "execution_count": 4,
   "metadata": {},
   "outputs": [
    {
     "name": "stdout",
     "output_type": "stream",
     "text": [
      "[ 2  4  6  8 10]\n",
      "[1, 2, 3, 4, 5, 1, 2, 3, 4, 5]\n"
     ]
    }
   ],
   "source": [
    "print(np_array + np_array)\n",
    "print(py_list + py_list)"
   ]
  },
  {
   "cell_type": "code",
   "execution_count": 5,
   "metadata": {},
   "outputs": [
    {
     "name": "stdout",
     "output_type": "stream",
     "text": [
      "[ 3  6  9 12 15]\n",
      "[1, 2, 3, 4, 5, 1, 2, 3, 4, 5, 1, 2, 3, 4, 5]\n"
     ]
    }
   ],
   "source": [
    "print(np_array * 3)\n",
    "print(py_list * 3)"
   ]
  },
  {
   "cell_type": "markdown",
   "metadata": {},
   "source": [
    "## Matrix Operations"
   ]
  },
  {
   "cell_type": "code",
   "execution_count": 6,
   "metadata": {},
   "outputs": [
    {
     "name": "stdout",
     "output_type": "stream",
     "text": [
      "[[1 2 3 4 5]\n",
      " [1 2 3 4 5]\n",
      " [1 2 3 4 5]]\n",
      "[[1. 2. 3. 4. 5.]\n",
      " [1. 2. 3. 4. 5.]\n",
      " [1. 1. 1. 1. 1.]]\n"
     ]
    }
   ],
   "source": [
    "npmatrix1 = np.array([np_array, np_array, np_array])\n",
    "npmatrix2 = np.array([py_list, [1,2,3,4,5], np.ones(5)])\n",
    "\n",
    "print(npmatrix1)\n",
    "print(npmatrix2)"
   ]
  },
  {
   "cell_type": "markdown",
   "metadata": {},
   "source": [
    "## Scaling and translating matrices"
   ]
  },
  {
   "cell_type": "code",
   "execution_count": 7,
   "metadata": {},
   "outputs": [
    {
     "name": "stdout",
     "output_type": "stream",
     "text": [
      "[[1 2]\n",
      " [3 4]]\n"
     ]
    }
   ],
   "source": [
    "new_matrix = np.array([[1,2],[3,4]])\n",
    "print(new_matrix)"
   ]
  },
  {
   "cell_type": "code",
   "execution_count": 8,
   "metadata": {},
   "outputs": [
    {
     "name": "stdout",
     "output_type": "stream",
     "text": [
      "[[3 5]\n",
      " [7 9]]\n",
      "[[2 4]\n",
      " [6 8]]\n",
      "[[0 0]\n",
      " [0 0]]\n"
     ]
    }
   ],
   "source": [
    "print(new_matrix * 2 + 1)\n",
    "print(new_matrix + new_matrix)\n",
    "print(new_matrix - new_matrix)"
   ]
  },
  {
   "cell_type": "markdown",
   "metadata": {},
   "source": [
    "## Transpose Matrix"
   ]
  },
  {
   "cell_type": "code",
   "execution_count": 9,
   "metadata": {},
   "outputs": [
    {
     "name": "stdout",
     "output_type": "stream",
     "text": [
      "Original 3 x 2 matrix\n",
      "[[1 2]\n",
      " [3 4]\n",
      " [5 6]]\n",
      "Transposed 3 x 2 matrix\n",
      "[[1 3 5]\n",
      " [2 4 6]]\n"
     ]
    }
   ],
   "source": [
    "matrix_3x2 = np.array([[1,2],[3,4],[5,6]])\n",
    "print(\"Original 3 x 2 matrix\")\n",
    "print(matrix_3x2)\n",
    "print(\"Transposed 3 x 2 matrix\")\n",
    "print(matrix_3x2.T)"
   ]
  },
  {
   "cell_type": "markdown",
   "metadata": {},
   "source": [
    "## Dot Product"
   ]
  },
  {
   "cell_type": "code",
   "execution_count": 16,
   "metadata": {},
   "outputs": [
    {
     "name": "stdout",
     "output_type": "stream",
     "text": [
      "First dot product [[14  5  5]\n",
      " [26  6  8]\n",
      " [37  8 11]]\n",
      "Second dot product [[14  5]\n",
      " [26  6]\n",
      " [37  8]]\n",
      "38\n",
      "38\n",
      "38\n",
      "38\n"
     ]
    }
   ],
   "source": [
    "n_array1 = np.array([[1,1,3],[2,4,2],[3,6,2]])\n",
    "n_array2 = np.array([[5,2,1],[3,0,1],[2,1,1]])\n",
    "\n",
    "dot_product = np.dot(n_array1, n_array2)\n",
    "print(f\"First dot product {dot_product}\")\n",
    "\n",
    "n_array3 = np.array([[1,1,3],[2,4,2],[3,6,2]])\n",
    "n_array4 = np.array([[5,2],[3,0],[2,1]])\n",
    "\n",
    "dot_product2 = np.dot(n_array3, n_array4)\n",
    "print(f\"Second dot product {dot_product2}\")\n",
    "\n",
    "nparray1 = np.array([0, 1, 2, 3]) # Define an array\n",
    "nparray2 = np.array([4, 5, 6, 7]) # Define an array\n",
    "\n",
    "flavor1 = np.dot(nparray1, nparray2) # Recommended way\n",
    "print(flavor1)\n",
    "\n",
    "flavor2 = np.sum(nparray1 * nparray2) # Ok way\n",
    "print(flavor2)\n",
    "\n",
    "flavor3 = nparray1 @ nparray2         # Geeks way\n",
    "print(flavor3)\n",
    "\n",
    "# As you never should do:             # Noobs way\n",
    "flavor4 = 0\n",
    "for a, b in zip(nparray1, nparray2):\n",
    "    flavor4 += a * b\n",
    "    \n",
    "print(flavor4)"
   ]
  },
  {
   "cell_type": "markdown",
   "metadata": {},
   "source": [
    "## Vector Norm"
   ]
  },
  {
   "cell_type": "code",
   "execution_count": 18,
   "metadata": {},
   "outputs": [
    {
     "name": "stdout",
     "output_type": "stream",
     "text": [
      "3.7416573867739413\n"
     ]
    }
   ],
   "source": [
    "arr1 = np.array([1,2,3])\n",
    "print(np.linalg.norm(arr1))"
   ]
  },
  {
   "cell_type": "markdown",
   "metadata": {},
   "source": [
    "## Center columns of a matrix"
   ]
  },
  {
   "cell_type": "code",
   "execution_count": 17,
   "metadata": {},
   "outputs": [
    {
     "name": "stdout",
     "output_type": "stream",
     "text": [
      "Centered by column [[-0.5 -0.5]\n",
      " [ 0.5  0.5]]\n",
      "Centered by row [[-1.  0.]\n",
      " [ 0.  1.]]\n"
     ]
    }
   ],
   "source": [
    "np_array1 = np.array([[1,3],[2,4]])\n",
    "centered_by_column = np_array1 - np.mean(np_array1, axis=0)\n",
    "centered_by_row = np_array1 - np.mean(np_array1, axis=1)\n",
    "print(f\"Centered by column {centered_by_column}\")\n",
    "print(f\"Centered by row {centered_by_row}\")"
   ]
  },
  {
   "cell_type": "markdown",
   "metadata": {},
   "source": [
    "## Cosine Similarity\n",
    "\n",
    "cos(b) = (v * w) / (||v|| ||w||)"
   ]
  },
  {
   "cell_type": "code",
   "execution_count": 20,
   "metadata": {},
   "outputs": [
    {
     "name": "stdout",
     "output_type": "stream",
     "text": [
      "0.8682431421244591\n"
     ]
    }
   ],
   "source": [
    "agriculture_corpus = np.array([20, 40])\n",
    "history_corpus = np.array([30,20])\n",
    "\n",
    "cosine_similarity = np.dot(agriculture_corpus, history_corpus) / (np.linalg.norm(agriculture_corpus) * np.linalg.norm(history_corpus))\n",
    "print(cosine_similarity)"
   ]
  }
 ],
 "metadata": {
  "kernelspec": {
   "display_name": "Python 3.8.10 64-bit",
   "language": "python",
   "name": "python3"
  },
  "language_info": {
   "codemirror_mode": {
    "name": "ipython",
    "version": 3
   },
   "file_extension": ".py",
   "mimetype": "text/x-python",
   "name": "python",
   "nbconvert_exporter": "python",
   "pygments_lexer": "ipython3",
   "version": "3.8.10"
  },
  "orig_nbformat": 4,
  "vscode": {
   "interpreter": {
    "hash": "767d51c1340bd893661ea55ea3124f6de3c7a262a8b4abca0554b478b1e2ff90"
   }
  }
 },
 "nbformat": 4,
 "nbformat_minor": 2
}
