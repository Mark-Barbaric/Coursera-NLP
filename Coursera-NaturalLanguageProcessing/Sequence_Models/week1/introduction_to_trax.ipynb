{
 "cells": [
  {
   "cell_type": "markdown",
   "metadata": {},
   "source": [
    "# Week1 Lab - Trax and Layers"
   ]
  },
  {
   "cell_type": "code",
   "execution_count": 1,
   "metadata": {},
   "outputs": [
    {
     "name": "stderr",
     "output_type": "stream",
     "text": [
      "2023-07-31 15:55:57.723270: W tensorflow/compiler/tf2tensorrt/utils/py_utils.cc:38] TF-TRT Warning: Could not find TensorRT\n",
      "/home/mbarbari/.pyenv/versions/3.10.5/envs/course3/lib/python3.10/site-packages/tqdm/auto.py:21: TqdmWarning: IProgress not found. Please update jupyter and ipywidgets. See https://ipywidgets.readthedocs.io/en/stable/user_install.html\n",
      "  from .autonotebook import tqdm as notebook_tqdm\n"
     ]
    }
   ],
   "source": [
    "import numpy as np  # regular ol' numpy\n",
    "\n",
    "from trax import layers as tl  # core building block\n",
    "from trax import shapes  # data signatures: dimensionality and type\n",
    "from trax import fastmath  # uses jax, offers numpy on steroids"
   ]
  },
  {
   "cell_type": "markdown",
   "metadata": {},
   "source": [
    "## Relu Layer\n",
    "\n",
    "One of the simplest types of layers. Works like a math function."
   ]
  },
  {
   "cell_type": "code",
   "execution_count": 4,
   "metadata": {},
   "outputs": [
    {
     "name": "stderr",
     "output_type": "stream",
     "text": [
      "No GPU/TPU found, falling back to CPU. (Set TF_CPP_MIN_LOG_LEVEL=0 and rerun for more info.)\n"
     ]
    },
    {
     "name": "stdout",
     "output_type": "stream",
     "text": [
      "___Properties___\n",
      "name: Serial\n",
      "expected inputs: 1\n",
      "promised outputs: 1\n",
      "___Inputs___\n",
      "x: [-2 -1  0  1  2]\n",
      "__Outputs__\n",
      "y: [0 0 0 1 2]\n"
     ]
    }
   ],
   "source": [
    "relu = tl.Relu()\n",
    "\n",
    "print(\"___Properties___\")\n",
    "print(f\"name: {relu.name}\")\n",
    "print(f\"expected inputs: {relu.n_in}\")\n",
    "print(f\"promised outputs: {relu.n_out}\")\n",
    "\n",
    "x = np.array([-2, -1, 0, 1, 2])\n",
    "print(\"___Inputs___\")\n",
    "print(f\"x: {x}\")\n",
    "\n",
    "y = relu(x)\n",
    "print(\"__Outputs__\")\n",
    "print(f\"y: {y}\")"
   ]
  },
  {
   "cell_type": "markdown",
   "metadata": {},
   "source": [
    "## Concatenate Layer\n",
    "Takes two inputs"
   ]
  },
  {
   "cell_type": "code",
   "execution_count": 5,
   "metadata": {},
   "outputs": [
    {
     "name": "stdout",
     "output_type": "stream",
     "text": [
      "__Properties__\n",
      "name: Concatenate\n",
      "expected inputs: 2\n",
      "promised outputs: 1\n"
     ]
    }
   ],
   "source": [
    "concat = tl.Concatenate()\n",
    "print(\"__Properties__\")\n",
    "print(f\"name: {concat.name}\")\n",
    "print(f\"expected inputs: {concat.n_in}\")\n",
    "print(f\"promised outputs: {concat.n_out}\")\n",
    "\n",
    "x1 = np.array([-10, -20, -30])\n",
    "x2 = x1 / -10\n",
    "print(\"__Inputs__\")\n",
    "print(f\"x1: {x1}\")\n",
    "print(f\"x2: {x2}\")"
   ]
  },
  {
   "cell_type": "markdown",
   "metadata": {},
   "source": []
  }
 ],
 "metadata": {
  "kernelspec": {
   "display_name": "Python 3 (ipykernel)",
   "language": "python",
   "name": "python3"
  },
  "language_info": {
   "codemirror_mode": {
    "name": "ipython",
    "version": 3
   },
   "file_extension": ".py",
   "mimetype": "text/x-python",
   "name": "python",
   "nbconvert_exporter": "python",
   "pygments_lexer": "ipython3",
   "version": "3.10.5"
  },
  "orig_nbformat": 4
 },
 "nbformat": 4,
 "nbformat_minor": 2
}
