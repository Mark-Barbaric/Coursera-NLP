{
 "cells": [
  {
   "cell_type": "code",
   "execution_count": 1,
   "metadata": {},
   "outputs": [],
   "source": [
    "import numpy as np"
   ]
  },
  {
   "cell_type": "markdown",
   "metadata": {},
   "source": [
    "## Joining (concatenation)"
   ]
  },
  {
   "cell_type": "code",
   "execution_count": 7,
   "metadata": {},
   "outputs": [
    {
     "name": "stdout",
     "output_type": "stream",
     "text": [
      "-- Data --\n",
      "\n",
      "w_hh :\n",
      "[[1 1]\n",
      " [1 1]\n",
      " [1 1]]\n",
      "w_hh shape : (3, 2) \n",
      "\n",
      "w_hx :\n",
      "[[9 9 9]\n",
      " [9 9 9]\n",
      " [9 9 9]]\n",
      "w_hx shape : (3, 3) \n",
      "\n",
      "joining\n",
      "ww_h1 shape (3, 5)\n",
      "hstack\n",
      "w_h2 shape (3, 5)\n"
     ]
    }
   ],
   "source": [
    "w_hh = np.full((3,2), 1)\n",
    "w_hx = np.full((3,3), 9)\n",
    "\n",
    "print(\"-- Data --\\n\")\n",
    "print(\"w_hh :\")\n",
    "print(w_hh)\n",
    "print(\"w_hh shape :\", w_hh.shape, \"\\n\")\n",
    "print(\"w_hx :\")\n",
    "print(w_hx)\n",
    "print(\"w_hx shape :\", w_hx.shape, \"\\n\")\n",
    "\n",
    "# Joining the arrays\n",
    "print(f\"joining\")\n",
    "ww_h1 = np.concatenate((w_hh, w_hx), axis=1)\n",
    "ww_h1\n",
    "print(f\"ww_h1 shape {ww_h1.shape}\")\n",
    "\n",
    "# Option 2: hstack\n",
    "print(\"hstack\")\n",
    "w_h2 = np.hstack((w_hh, w_hx))\n",
    "print(f\"w_h2 shape {w_h2.shape}\")"
   ]
  },
  {
   "cell_type": "markdown",
   "metadata": {},
   "source": [
    "## Hidden and State Inputs"
   ]
  },
  {
   "cell_type": "code",
   "execution_count": 9,
   "metadata": {},
   "outputs": [
    {
     "name": "stdout",
     "output_type": "stream",
     "text": [
      "data\n",
      "h_t_prev [[1]\n",
      " [1]]\n",
      "h_t_prev shape (2, 1)\n",
      "x_t [[9]\n",
      " [9]\n",
      " [9]]\n",
      "x_t shape (3, 1)\n",
      "joining arrays\n",
      "Option 1 - concatenate\n",
      "ax_1 [[1]\n",
      " [1]\n",
      " [9]\n",
      " [9]\n",
      " [9]]\n",
      "ax_1 shape (5, 1)\n",
      "Option 2 - vstack\n",
      "ax_2 [[1]\n",
      " [1]\n",
      " [9]\n",
      " [9]\n",
      " [9]]\n",
      "ax_2 shape (5, 1)\n"
     ]
    }
   ],
   "source": [
    "h_t_prev = np.full((2,1), 1)\n",
    "x_t = np.full((3,1), 9)\n",
    "\n",
    "\n",
    "print(\"data\")\n",
    "print(f\"h_t_prev {h_t_prev}\")\n",
    "print(f\"h_t_prev shape {h_t_prev.shape}\")\n",
    "print(f\"x_t {x_t}\")\n",
    "print(f\"x_t shape {x_t.shape}\")\n",
    "\n",
    "print(\"joining arrays\")\n",
    "\n",
    "print(\"Option 1 - concatenate\")\n",
    "ax_1 = np.concatenate((h_t_prev, x_t), axis=0)\n",
    "\n",
    "print(f\"ax_1 {ax_1}\")\n",
    "print(f\"ax_1 shape {ax_1.shape}\")\n",
    "\n",
    "print(\"Option 2 - vstack\")\n",
    "\n",
    "ax_2 = np.vstack((h_t_prev, x_t))\n",
    "\n",
    "print(f\"ax_2 {ax_2}\")\n",
    "print(f\"ax_2 shape {ax_2.shape}\")"
   ]
  },
  {
   "cell_type": "markdown",
   "metadata": {},
   "source": [
    "## Verify Formulas\n",
    "Now you know how to do the concatenations, horizontal and vertical, lets verify if the two formulas produce the same result.\n",
    "\n",
    "__Formula 1:__ $h^{<t>}=g(W_{h}[h^{<t-1>},x^{<t>}] + b_h)$ \n",
    "\n",
    "__Formula 2:__ $h^{<t>}=g(W_{hh}h^{<t-1>} + W_{hx}x^{<t>} + b_h)$\n",
    "\n",
    "\n",
    "To prove:- __Formula 1__ $\\Leftrightarrow$ __Formula 2__\n",
    "\n",
    "We will ignore the bias term $b_h$ and the activation function $g(\\ )$ because the transformation will be identical for each formula. So what we really want to compare is the result of the following parameters inside each formula:\n",
    "\n",
    "$W_{h}[h^{<t-1>},x^{<t>}] \\quad \\Leftrightarrow \\quad W_{hh}h^{<t-1>} + W_{hx}x^{<t>} $\n",
    "\n",
    "We'll see how to do this using matrix multiplication combined with the data and techniques (stacking/concatenating) from above.\n",
    "\n",
    "* Try adding a sigmoid activation function and bias term to the checks for completeness.\n"
   ]
  },
  {
   "cell_type": "code",
   "execution_count": null,
   "metadata": {},
   "outputs": [],
   "source": [
    "w_hh = np.full((3,2), 1)\n",
    "w_hx = np.full((3,3), 9)\n",
    "\n",
    "h_t_prev = np.full((2,1), 1)\n",
    "x_t = np.full((3,1), 9)\n",
    "\n",
    "print(\"Results\")\n",
    "stack_1 = np.hstack((w_hh, w_hx))\n",
    "stack_2 = np.vstack((h_t_prev, x_t))\n",
    "\n",
    "print(\"\\nFormula 1\")\n",
    "print(\"Term1:\\n\",stack_1)\n",
    "print(\"Term2:\\n\",stack_2)\n",
    "formula_1 = np.matmul(np.hstack((w_hh, w_hx)), np.vstack((h_t_prev, x_t)))\n",
    "print(\"Output:\")\n",
    "print(formula_1)\n",
    "\n",
    "# Formula 2\n",
    "mul_1 = np.matmul(w_hh, h_t_prev)\n",
    "mul_2 = np.matmul(w_hx, x_t)\n",
    "print(\"\\nFormula 2\")\n",
    "print(\"Term1:\\n\",mul_1)\n",
    "print(\"Term2:\\n\",mul_2)\n",
    "\n",
    "formula_2 = np.matmul(w_hh, h_t_prev) + np.matmul(w_hx, x_t)\n",
    "print(\"\\nOutput:\")\n",
    "print(formula_2, \"\\n\")\n",
    "\n",
    "# Verification \n",
    "# np.allclose - to check if two arrays are elementwise equal upto certain tolerance, here  \n",
    "# https://numpy.org/doc/stable/reference/generated/numpy.allclose.html\n",
    "\n",
    "print(\"-- Verify --\")\n",
    "print(\"Results are the same :\", np.allclose(formula_1, formula_2))"
   ]
  }
 ],
 "metadata": {
  "kernelspec": {
   "display_name": "course3",
   "language": "python",
   "name": "python3"
  },
  "language_info": {
   "codemirror_mode": {
    "name": "ipython",
    "version": 3
   },
   "file_extension": ".py",
   "mimetype": "text/x-python",
   "name": "python",
   "nbconvert_exporter": "python",
   "pygments_lexer": "ipython3",
   "version": "3.10.5"
  },
  "orig_nbformat": 4
 },
 "nbformat": 4,
 "nbformat_minor": 2
}
