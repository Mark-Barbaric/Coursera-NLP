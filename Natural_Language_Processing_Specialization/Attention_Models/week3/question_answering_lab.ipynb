{
 "cells": [
  {
   "cell_type": "markdown",
   "metadata": {},
   "source": [
    "# Question Answering with BERT and HuggingFace\n",
    "\n",
    "You've seen how to use BERT and other transformer models for a wide range of natural language tasks, including machine translation, summarization, and question answering. Transformers have become the standard model for NLP, similar to convolutional models in computer vision. And all started with Attention!\n",
    "\n",
    "In practice, you'll rarely train a transformer model from scratch.  Transformers tend to be very large, so they take time, money, and lots of data to train fully. Instead, you'll want to start with a pre-trained model and fine-tune it with your dataset if you need to.\n",
    "\n",
    "[Hugging Face](https://huggingface.co/) (🤗) is the best resource for pre-trained transformers. Their open-source libraries simplify downloading and using transformer models like BERT, T5, and GPT-2. And the best part, you can use them alongside either TensorFlow, PyTorch or Flax.\n",
    "\n",
    "In this notebook, you'll use 🤗  transformers to use the DistilBERT model for question answering."
   ]
  },
  {
   "cell_type": "markdown",
   "metadata": {},
   "source": [
    "But how to identify these units, such as words, is largely determined by the language they come from. For example, in many European languages a space is used to separate words, while in some Asian languages there are no spaces between words. Compare English and Mandarin.\n",
    "\n",
    "- Tokens are tricky. (original sentence)\n",
    "- 标记很棘手 (Mandarin)\n",
    "- Biāojì hěn jíshǒu (pinyin)\n",
    "- 标记 很 棘手 (Mandarin with spaces)\n",
    "\n",
    "\n",
    "So, the ability to **tokenize**, i.e. split text into meaningful fundamental units, is not always straight-forward.\n",
    "\n",
    "Also, there are practical issues of how large our *vocabulary* of words, `vocab_size`, should be, considering memory limitations vs. coverage. A compromise may be need to be made between: \n",
    "* the finest-grained models employing characters which can be memory intensive and \n",
    "* more computationally efficient *subword* units such as [n-grams](https://arxiv.org/pdf/1712.09405) or larger units.\n",
    "\n",
    "In [SentencePiece](https://www.aclweb.org/anthology/D18-2012.pdf) unicode characters are grouped together using either a [unigram language model](https://www.aclweb.org/anthology/P18-1007.pdf) (used in this week's assignment) or [BPE](https://arxiv.org/pdf/1508.07909.pdf), **byte-pair encoding**. We will discuss BPE, since BERT and many of its variants use a modified version of BPE and its pseudocode is easy to implement and understand... hopefully!"
   ]
  },
  {
   "cell_type": "markdown",
   "metadata": {},
   "source": [
    "## Pipelines\n",
    "\n",
    "Before fine-tuning a model, you will look at the pipelines from Hugging Face to use pre-trained transformer models for specific tasks. The `transformers` library provides pipelines for popular tasks like sentiment analysis, summarization, and text generation. A pipeline consists of a tokenizer, a model, and the model configuration. All these are packaged together into an easy-to-use object. Hugging Face makes life easier.\n",
    "\n",
    "Pipelines are intended to be used without fine-tuning and will often be immediately helpful in your projects. For example, `transformers` provides a pipeline for [question answering](https://huggingface.co/docs/transformers/main_classes/pipelines#transformers.QuestionAnsweringPipeline) that you can directly use to answer your questions if you give some context. Let's see how to do just that.\n",
    "\n",
    "You will import `pipeline` from `transformers` for creating pipelines."
   ]
  },
  {
   "cell_type": "code",
   "execution_count": 1,
   "metadata": {},
   "outputs": [
    {
     "name": "stderr",
     "output_type": "stream",
     "text": [
      "/home/mbarbaric/dev/ai_projects/NLP/.venv/lib/python3.10/site-packages/tqdm/auto.py:21: TqdmWarning: IProgress not found. Please update jupyter and ipywidgets. See https://ipywidgets.readthedocs.io/en/stable/user_install.html\n",
      "  from .autonotebook import tqdm as notebook_tqdm\n",
      "/home/mbarbaric/dev/ai_projects/NLP/.venv/lib/python3.10/site-packages/transformers/utils/generic.py:441: FutureWarning: `torch.utils._pytree._register_pytree_node` is deprecated. Please use `torch.utils._pytree.register_pytree_node` instead.\n",
      "  _torch_pytree._register_pytree_node(\n",
      "/home/mbarbaric/dev/ai_projects/NLP/.venv/lib/python3.10/site-packages/transformers/utils/generic.py:309: FutureWarning: `torch.utils._pytree._register_pytree_node` is deprecated. Please use `torch.utils._pytree.register_pytree_node` instead.\n",
      "  _torch_pytree._register_pytree_node(\n"
     ]
    }
   ],
   "source": [
    "import os\n",
    "os.environ['TF_CPP_MIN_LOG_LEVEL'] = '3'\n",
    "\n",
    "from transformers import pipeline"
   ]
  },
  {
   "cell_type": "code",
   "execution_count": 2,
   "metadata": {},
   "outputs": [
    {
     "name": "stderr",
     "output_type": "stream",
     "text": [
      "/home/mbarbaric/dev/ai_projects/NLP/.venv/lib/python3.10/site-packages/huggingface_hub/file_download.py:1150: FutureWarning: `resume_download` is deprecated and will be removed in version 1.0.0. Downloads always resume when possible. If you want to force a new download, use `force_download=True`.\n",
      "  warnings.warn(\n"
     ]
    }
   ],
   "source": [
    "question_answerer = pipeline(task=\"question-answering\",\n",
    "                             model=\"distilbert-base-cased-distilled-squad\")"
   ]
  },
  {
   "cell_type": "markdown",
   "metadata": {},
   "source": [
    "Notice that this environment already has the model stored in the directory `distilbert-base-cased-distilled-squad`. However if you were to run that exact code on your local computer, Huggingface will download the model for you, which is a great feature!\n",
    "\n",
    "\n",
    "After running the last cell, you have a pipeline for performing question answering given a context string. The pipeline `question_answerer` you just created needs you to pass the question and context as strings. It returns an answer to the question from the context you provided. For example, here are the first few paragraphs from the [Wikipedia entry for tea](https://en.wikipedia.org/wiki/Tea) that you will use as the context.\n",
    "\n",
    "\n"
   ]
  },
  {
   "cell_type": "code",
   "execution_count": 3,
   "metadata": {},
   "outputs": [],
   "source": [
    "context = \"\"\"\n",
    "Tea is an aromatic beverage prepared by pouring hot or boiling water over cured or fresh leaves of Camellia sinensis,\n",
    "an evergreen shrub native to China and East Asia. After water, it is the most widely consumed drink in the world.\n",
    "There are many different types of tea; some, like Chinese greens and Darjeeling, have a cooling, slightly bitter,\n",
    "and astringent flavour, while others have vastly different profiles that include sweet, nutty, floral, or grassy\n",
    "notes. Tea has a stimulating effect in humans primarily due to its caffeine content.\n",
    "\n",
    "The tea plant originated in the region encompassing today's Southwest China, Tibet, north Myanmar and Northeast India,\n",
    "where it was used as a medicinal drink by various ethnic groups. An early credible record of tea drinking dates to\n",
    "the 3rd century AD, in a medical text written by Hua Tuo. It was popularised as a recreational drink during the\n",
    "Chinese Tang dynasty, and tea drinking spread to other East Asian countries. Portuguese priests and merchants\n",
    "introduced it to Europe during the 16th century. During the 17th century, drinking tea became fashionable among the\n",
    "English, who started to plant tea on a large scale in India.\n",
    "\n",
    "The term herbal tea refers to drinks not made from Camellia sinensis: infusions of fruit, leaves, or other plant\n",
    "parts, such as steeps of rosehip, chamomile, or rooibos. These may be called tisanes or herbal infusions to prevent\n",
    "confusion with 'tea' made from the tea plant.\n",
    "\"\"\""
   ]
  },
  {
   "cell_type": "code",
   "execution_count": 4,
   "metadata": {},
   "outputs": [
    {
     "name": "stdout",
     "output_type": "stream",
     "text": [
      "China and East Asia\n"
     ]
    }
   ],
   "source": [
    "result = question_answerer(question=\"Where is tea native to?\",\n",
    "                           context=context)\n",
    "\n",
    "print(result['answer'])"
   ]
  },
  {
   "cell_type": "code",
   "execution_count": 5,
   "metadata": {},
   "outputs": [
    {
     "name": "stdout",
     "output_type": "stream",
     "text": [
      "Where is tea native to? \n",
      ">> China and East Asia\n",
      "When was tea discovered? \n",
      ">> 3rd century AD\n",
      "What is the species name for tea? \n",
      ">> Camellia sinensis\n"
     ]
    }
   ],
   "source": [
    "questions = [\"Where is tea native to?\",\n",
    "             \"When was tea discovered?\",\n",
    "             \"What is the species name for tea?\"]\n",
    "\n",
    "results = question_answerer(question=questions,\n",
    "                            context=context)\n",
    "\n",
    "for q, r in zip(questions, results):\n",
    "    print(f\"{q} \\n>> {r['answer']}\")"
   ]
  },
  {
   "cell_type": "code",
   "execution_count": 6,
   "metadata": {},
   "outputs": [],
   "source": [
    "context = \"\"\"\n",
    "The Golden Age of Comic Books describes an era of American comic books from the\n",
    "late 1930s to circa 1950. During this time, modern comic books were first published\n",
    "and rapidly increased in popularity. The superhero archetype was created and many\n",
    "well-known characters were introduced, including Superman, Batman, Captain Marvel\n",
    "(later known as SHAZAM!), Captain America, and Wonder Woman.\n",
    "Between 1939 and 1941 Detective Comics and its sister company, All-American Publications,\n",
    "introduced popular superheroes such as Batman and Robin, Wonder Woman, the Flash,\n",
    "Green Lantern, Doctor Fate, the Atom, Hawkman, Green Arrow and Aquaman.[7] Timely Comics,\n",
    "the 1940s predecessor of Marvel Comics, had million-selling titles featuring the Human Torch,\n",
    "the Sub-Mariner, and Captain America.[8]\n",
    "As comic books grew in popularity, publishers began launching titles that expanded\n",
    "into a variety of genres. Dell Comics' non-superhero characters (particularly the\n",
    "licensed Walt Disney animated-character comics) outsold the superhero comics of the day.[12]\n",
    "The publisher featured licensed movie and literary characters such as Mickey Mouse, Donald Duck,\n",
    "Roy Rogers and Tarzan.[13] It was during this era that noted Donald Duck writer-artist\n",
    "Carl Barks rose to prominence.[14] Additionally, MLJ's introduction of Archie Andrews\n",
    "in Pep Comics #22 (December 1941) gave rise to teen humor comics,[15] with the Archie\n",
    "Andrews character remaining in print well into the 21st century.[16]\n",
    "At the same time in Canada, American comic books were prohibited importation under\n",
    "the War Exchange Conservation Act[17] which restricted the importation of non-essential\n",
    "goods. As a result, a domestic publishing industry flourished during the duration\n",
    "of the war which were collectively informally called the Canadian Whites.\n",
    "The educational comic book Dagwood Splits the Atom used characters from the comic\n",
    "strip Blondie.[18] According to historian Michael A. Amundson, appealing comic-book\n",
    "characters helped ease young readers' fear of nuclear war and neutralize anxiety\n",
    "about the questions posed by atomic power.[19] It was during this period that long-running\n",
    "humor comics debuted, including EC's Mad and Carl Barks' Uncle Scrooge in Dell's Four\n",
    "Color Comics (both in 1952).[20][21]\n",
    "\"\"\""
   ]
  },
  {
   "cell_type": "code",
   "execution_count": 7,
   "metadata": {},
   "outputs": [
    {
     "name": "stdout",
     "output_type": "stream",
     "text": [
      "teen humor comics\n"
     ]
    }
   ],
   "source": [
    "question = \"What popular superheroes were introduced between 1939 and 1941?\"\n",
    "\n",
    "result = question_answerer(question=question, context=context)\n",
    "print(result['answer'])"
   ]
  },
  {
   "cell_type": "code",
   "execution_count": 8,
   "metadata": {},
   "outputs": [
    {
     "name": "stdout",
     "output_type": "stream",
     "text": [
      "What popular superheroes were introduced between 1939 and 1941? \n",
      ">> teen humor comics\n",
      "What superheroes were introduced between 1939 and 1941 by Detective Comics and its sister company? \n",
      ">> Archie Andrews\n",
      "What comic book characters were created between 1939 and 1941? \n",
      ">> Archie\n",
      "Andrews\n",
      "What well-known characters were created between 1939 and 1941? \n",
      ">> Archie\n",
      "Andrews\n",
      "What well-known superheroes were introduced between 1939 and 1941 by Detective Comics? \n",
      ">> Archie Andrews\n"
     ]
    }
   ],
   "source": [
    "questions = [\"What popular superheroes were introduced between 1939 and 1941?\",\n",
    "             \"What superheroes were introduced between 1939 and 1941 by Detective Comics and its sister company?\",\n",
    "             \"What comic book characters were created between 1939 and 1941?\",\n",
    "             \"What well-known characters were created between 1939 and 1941?\",\n",
    "             \"What well-known superheroes were introduced between 1939 and 1941 by Detective Comics?\"]\n",
    "\n",
    "results = question_answerer(question=questions, context=context)\n",
    "\n",
    "for q, r in zip(questions, results):\n",
    "    print(f\"{q} \\n>> {r['answer']}\")"
   ]
  }
 ],
 "metadata": {
  "kernelspec": {
   "display_name": "venv_coursera_nlp",
   "language": "python",
   "name": "python3"
  },
  "language_info": {
   "codemirror_mode": {
    "name": "ipython",
    "version": 3
   },
   "file_extension": ".py",
   "mimetype": "text/x-python",
   "name": "python",
   "nbconvert_exporter": "python",
   "pygments_lexer": "ipython3",
   "version": "3.10.12"
  }
 },
 "nbformat": 4,
 "nbformat_minor": 2
}
