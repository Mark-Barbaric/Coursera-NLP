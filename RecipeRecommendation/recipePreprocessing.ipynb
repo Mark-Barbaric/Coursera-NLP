{
 "cells": [
  {
   "cell_type": "markdown",
   "metadata": {},
   "source": [
    "## Recipe Data Preprocessing\n",
    "\n",
    "This purpose of this notebook is to determine the best way of preprocessing ingredient information from recipes. The goal is to parse ingredient info into a list of ingredients and their quantities. Starting point is below raw recipe which contains unicode characters.\n",
    "\n",
    "There's two sides to an ingredient line:\n",
    "\n",
    "1. Quantity\n",
    "2. Ingredient\n",
    "\n",
    "Challenge is determining where to split the sentence"
   ]
  },
  {
   "cell_type": "code",
   "execution_count": 1,
   "metadata": {},
   "outputs": [
    {
     "name": "stdout",
     "output_type": "stream",
     "text": [
      "▢8 ounces whole-wheat elbow noodles (2 cups) ▢10 ounce package frozen chopped broccoli or fresh broccoli florets – cut small ▢10 oz bag of baby spinach or baby kale optional ▢2-3 cloves fresh garlic minced ▢1¾ cups 1% milk divided ▢3 tablespoons All Purpose flour ▢½ teaspoon garlic powder ▢½-1 teaspoon salt ▢¼ teaspoon ground black pepper ▢¾ cup shredded extra-sharp Cheddar cheese ▢¼ cup shredded Parmesan cheese ▢¼-½ teaspoon Dijon mustard omit if you don’t like the flavor of mustard ▢⅛-¼ tsp crushed red pepper\n"
     ]
    }
   ],
   "source": [
    "\n",
    "raw_recipe_data = '▢8 ounces whole-wheat elbow noodles \\\n",
    "(2 cups) \\\n",
    "\\\n",
    "▢10 ounce package frozen chopped broccoli \\\n",
    "or fresh broccoli florets – cut small \\\n",
    "▢10 oz bag of baby spinach or baby kale \\\n",
    "optional \\\n",
    "▢2-3 cloves fresh garlic \\\n",
    "minced \\\n",
    "▢1¾ cups 1% milk \\\n",
    "divided \\\n",
    "▢3 tablespoons All Purpose flour \\\n",
    "▢½ teaspoon garlic powder \\\n",
    "▢½-1 teaspoon salt \\\n",
    "▢¼ teaspoon ground black pepper \\\n",
    "\\\n",
    "▢¾ cup shredded extra-sharp Cheddar cheese \\\n",
    "▢¼ cup shredded Parmesan cheese \\\n",
    "▢¼-½ teaspoon Dijon mustard \\\n",
    "omit if you don’t like the flavor of mustard \\\n",
    "▢⅛-¼ tsp crushed red pepper'\n",
    "\n",
    "print(raw_recipe_data)"
   ]
  },
  {
   "cell_type": "markdown",
   "metadata": {},
   "source": [
    "## Text Preprocessing\n",
    "\n",
    "Using the above raw ingredients list, Text Preprocessing needs to do the below:\n",
    "\n",
    "1. Convert to lower case\n",
    "2. Remove Unecessary words\n",
    "3. Remove measure words\n",
    "4. Remove words representing numbers\n",
    "5. Remove chars representing 1/2 / 1/4\n",
    "\n",
    "Based on this, initial implementation will involve appending split words to full_ingredient_name is they don't contain necessary words."
   ]
  },
  {
   "cell_type": "code",
   "execution_count": 3,
   "metadata": {},
   "outputs": [
    {
     "name": "stdout",
     "output_type": "stream",
     "text": [
      "['One', 'Cup', 'flour', '▢3', 'tablespoons', 'All', 'Purpose', 'flour', '¼-½', 'tsp', 'hot', 'chili', 'powder', '1', 'red', 'pepper']\n"
     ]
    }
   ],
   "source": [
    "import sys\n",
    "sys.path.append('../')\n",
    "\n",
    "import recipe_preprocessing\n",
    "\n",
    "lines_to_preprocess = [\n",
    "    'One Cup flour',\n",
    "    \"▢3 tablespoons All Purpose flour\",\n",
    "    '¼-½ tsp hot chili powder',\n",
    "    '1 red pepper',\n",
    "]\n",
    "\n",
    "preprocessed_words = []\n",
    "\n",
    "for line in lines_to_preprocess:\n",
    "    for word in line.split():\n",
    "        preprocessed_word = recipe_preprocessing.preprocess_word(word)\n",
    "        preprocessed_words.append(preprocessed_word)\n",
    "\n",
    "print(preprocessed_words)"
   ]
  },
  {
   "cell_type": "code",
   "execution_count": null,
   "metadata": {},
   "outputs": [],
   "source": [
    "import sys\n",
    "sys.path.append('../')\n",
    "\n",
    "import recipe_preprocessing\n",
    "\n",
    "ingredient_lines = ['1 oz chicken',\n",
    "'200 grams baby potatoes',\n",
    "'pinch of basil',\n",
    "'3 cloves of garlic',\n",
    "'1 red pepper',\n",
    "'half cup flour',\n",
    "'one medium pepper',\n",
    "'¼-½ tsp hot chili powder',\n",
    "'1/2 teaspoon paprika',\n",
    "'6 large eggs',\n",
    "'2 tablespoons olive oil']\n",
    "\n",
    "words = recipe_preprocessing.get_ingredient_list(ingredient_lines)\n",
    "print(words)"
   ]
  },
  {
   "cell_type": "markdown",
   "metadata": {},
   "source": [
    "## Recipe Preprocessing\n",
    "\n",
    "First step in text preprocessing is removing all unnecessary characters, stopwords etc from text. This is fairly trivial.\n",
    "\n",
    "The next step involves separating out the ingredient and quantity so that the nutrition information can be calculated. Most recipe lines will like follow the below syntax:\n",
    "\n",
    "'1 slice of lime'\n",
    "'1 oz organic turkey'\n",
    "\n",
    "There are likely to be 2 sections within an ingredient line\n",
    "\n",
    "1. Quantity\n",
    "2. Ingredient\n",
    "\n",
    "One approach involves populating a quantity_word list, which can be used to separate ingredient lines into two.\n",
    "\n"
   ]
  },
  {
   "cell_type": "markdown",
   "metadata": {},
   "source": [
    "Still some unneccessary words being included here. \n",
    "\n",
    "1. Decimals represented an non double or floats\n",
    "2. "
   ]
  }
 ],
 "metadata": {
  "kernelspec": {
   "display_name": "Python 3.8.10 64-bit",
   "language": "python",
   "name": "python3"
  },
  "language_info": {
   "codemirror_mode": {
    "name": "ipython",
    "version": 3
   },
   "file_extension": ".py",
   "mimetype": "text/x-python",
   "name": "python",
   "nbconvert_exporter": "python",
   "pygments_lexer": "ipython3",
   "version": "3.8.10"
  },
  "orig_nbformat": 4,
  "vscode": {
   "interpreter": {
    "hash": "767d51c1340bd893661ea55ea3124f6de3c7a262a8b4abca0554b478b1e2ff90"
   }
  }
 },
 "nbformat": 4,
 "nbformat_minor": 2
}
