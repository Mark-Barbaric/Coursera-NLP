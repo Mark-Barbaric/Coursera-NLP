{
 "cells": [
  {
   "cell_type": "markdown",
   "metadata": {},
   "source": [
    "# Week1 Lab - Trax and Layers"
   ]
  },
  {
   "cell_type": "code",
   "execution_count": 8,
   "metadata": {},
   "outputs": [],
   "source": [
    "import numpy as np  # regular ol' numpy\n",
    "\n",
    "from trax import layers as tl  # core building block\n",
    "from trax import shapes  # data signatures: dimensionality and type\n",
    "from trax import fastmath  # uses jax, offers numpy on steroids"
   ]
  },
  {
   "cell_type": "markdown",
   "metadata": {},
   "source": [
    "## Relu Layer\n",
    "\n",
    "One of the simplest types of layers. Works like a math function."
   ]
  },
  {
   "cell_type": "code",
   "execution_count": 9,
   "metadata": {},
   "outputs": [
    {
     "name": "stdout",
     "output_type": "stream",
     "text": [
      "___Properties___\n",
      "name: Serial\n",
      "expected inputs: 1\n",
      "promised outputs: 1\n",
      "___Inputs___\n",
      "x: [-2 -1  0  1  2]\n",
      "__Outputs__\n",
      "y: [0 0 0 1 2]\n"
     ]
    }
   ],
   "source": [
    "relu = tl.Relu()\n",
    "\n",
    "print(\"___Properties___\")\n",
    "print(f\"name: {relu.name}\")\n",
    "print(f\"expected inputs: {relu.n_in}\")\n",
    "print(f\"promised outputs: {relu.n_out}\")\n",
    "\n",
    "x = np.array([-2, -1, 0, 1, 2])\n",
    "print(\"___Inputs___\")\n",
    "print(f\"x: {x}\")\n",
    "\n",
    "y = relu(x)\n",
    "print(\"__Outputs__\")\n",
    "print(f\"y: {y}\")"
   ]
  },
  {
   "cell_type": "markdown",
   "metadata": {},
   "source": [
    "## Concatenate Layer\n",
    "Takes two inputs"
   ]
  },
  {
   "cell_type": "code",
   "execution_count": 10,
   "metadata": {},
   "outputs": [
    {
     "name": "stdout",
     "output_type": "stream",
     "text": [
      "__Properties__\n",
      "name: Concatenate\n",
      "expected inputs: 2\n",
      "promised outputs: 1\n",
      "__Inputs__\n",
      "x1: [-10 -20 -30]\n",
      "x2: [1. 2. 3.]\n",
      "__Outputs__\n",
      "y: [-10. -20. -30.   1.   2.   3.]\n"
     ]
    }
   ],
   "source": [
    "concat = tl.Concatenate()\n",
    "print(\"__Properties__\")\n",
    "print(f\"name: {concat.name}\")\n",
    "print(f\"expected inputs: {concat.n_in}\")\n",
    "print(f\"promised outputs: {concat.n_out}\")\n",
    "\n",
    "x1 = np.array([-10, -20, -30])\n",
    "x2 = x1 / -10\n",
    "print(\"__Inputs__\")\n",
    "print(f\"x1: {x1}\")\n",
    "print(f\"x2: {x2}\")\n",
    "\n",
    "y = concat([x1, x2])\n",
    "print(\"__Outputs__\")\n",
    "print(f\"y: {y}\")"
   ]
  },
  {
   "cell_type": "markdown",
   "metadata": {},
   "source": [
    "## Layers are Configurable"
   ]
  },
  {
   "cell_type": "code",
   "execution_count": 11,
   "metadata": {},
   "outputs": [
    {
     "name": "stdout",
     "output_type": "stream",
     "text": [
      "__Properties__\n",
      "name: Concatenate\n",
      "expected_inputs: 3\n",
      "promised outputs: 1\n",
      "__Inputs__\n",
      "x1: [-10 -20 -30]\n",
      "x2: [-1. -2. -3.]\n",
      "x3: [-0.99 -1.98 -2.97]\n",
      "__Outputs__\n",
      "y: [-10.   -20.   -30.    -1.    -2.    -3.    -0.99  -1.98  -2.97]\n"
     ]
    }
   ],
   "source": [
    "concat_3l = tl.Concatenate(n_items=3)\n",
    "print(\"__Properties__\")\n",
    "print(f\"name: {concat_3l.name}\")\n",
    "print(f\"expected_inputs: {concat_3l.n_in}\")\n",
    "print(f\"promised outputs: {concat_3l.n_out}\")\n",
    "\n",
    "x1 = np.array([-10, -20, -30])\n",
    "x2 = x1 / 10\n",
    "x3 = x2 * 0.99\n",
    "\n",
    "print(\"__Inputs__\")\n",
    "print(f\"x1: {x1}\")\n",
    "print(f\"x2: {x2}\")\n",
    "print(f\"x3: {x3}\")\n",
    "\n",
    "y = concat_3l([x1, x2, x3])\n",
    "print(\"__Outputs__\")\n",
    "print(f\"y: {y}\")"
   ]
  },
  {
   "cell_type": "markdown",
   "metadata": {},
   "source": [
    "## Layers can have weights\n",
    "\n",
    "Some layer types include mutable weights and biases that are used in computation and training. They need to be initialized before use.\n",
    "\n",
    "The layer LayerNorm calculates normalized data which is scaled by weights and biases."
   ]
  },
  {
   "cell_type": "code",
   "execution_count": 12,
   "metadata": {},
   "outputs": [
    {
     "name": "stdout",
     "output_type": "stream",
     "text": [
      "Normal shape: (4,) DataType: <class 'tuple'>\n",
      "Shapes Trax: ShapeDtype{shape:(4,), dtype:float64} DataType: <class 'trax.shapes.ShapeDtype'>\n",
      "__Properties__\n",
      "name: LayerNorm\n",
      "expected inputs: 1\n",
      "promised outputs: 1\n",
      "weights: [1. 1. 1. 1.]\n",
      "biases: [0. 0. 0. 0.]\n",
      "-- Inputs --\n",
      "x : [0. 1. 2. 3.]\n",
      "-- Outputs --\n",
      "y : [-1.3416404  -0.44721344  0.44721344  1.3416404 ]\n"
     ]
    }
   ],
   "source": [
    "norm = tl.LayerNorm()\n",
    "\n",
    "x = np.array([0, 1, 2, 3], dtype=\"float\")\n",
    "\n",
    "norm.init(shapes.signature(x)) # convert input datatype to trax ShapeDType\n",
    "\n",
    "print(f\"Normal shape: {x.shape} DataType: {type(x.shape)}\")\n",
    "print(f\"Shapes Trax: {shapes.signature(x)} DataType: {type(shapes.signature(x))}\")\n",
    "\n",
    "print(\"__Properties__\")\n",
    "print(f\"name: {norm.name}\")\n",
    "print(f\"expected inputs: {norm.n_in}\")\n",
    "print(f\"promised outputs: {norm.n_out}\")\n",
    "\n",
    "#weights and biases\n",
    "print(f\"weights: {norm.weights[0]}\")\n",
    "print(f\"biases: {norm.weights[1]}\")\n",
    "\n",
    "# Inputs\n",
    "print(\"-- Inputs --\")\n",
    "print(\"x :\", x)\n",
    "\n",
    "# Outputs\n",
    "y = norm(x)\n",
    "print(\"-- Outputs --\")\n",
    "print(\"y :\", y)"
   ]
  },
  {
   "cell_type": "markdown",
   "metadata": {},
   "source": [
    "## Custom Layers"
   ]
  },
  {
   "cell_type": "code",
   "execution_count": 13,
   "metadata": {},
   "outputs": [
    {
     "name": "stdout",
     "output_type": "stream",
     "text": [
      "-- Properties --\n",
      "name : TimesTwo\n",
      "expected inputs : 1\n",
      "promised outputs : 1 \n",
      "\n",
      "-- Inputs --\n",
      "x : [1 2 3] \n",
      "\n",
      "-- Outputs --\n",
      "y : [2 4 6]\n"
     ]
    }
   ],
   "source": [
    "def TimesTwo():\n",
    "    layer_name = \"TimesTwo\"\n",
    "\n",
    "    def func(x):\n",
    "        return x * 2\n",
    "\n",
    "    return tl.Fn(layer_name, func)\n",
    "\n",
    "times_two = TimesTwo()\n",
    "\n",
    "# Inspect properties\n",
    "print(\"-- Properties --\")\n",
    "print(\"name :\", times_two.name)\n",
    "print(\"expected inputs :\", times_two.n_in)\n",
    "print(\"promised outputs :\", times_two.n_out, \"\\n\")\n",
    "\n",
    "# Inputs\n",
    "x = np.array([1, 2, 3])\n",
    "print(\"-- Inputs --\")\n",
    "print(\"x :\", x, \"\\n\")\n",
    "\n",
    "# Outputs\n",
    "y = times_two(x)\n",
    "print(\"-- Outputs --\")\n",
    "print(\"y :\", y)"
   ]
  },
  {
   "cell_type": "markdown",
   "metadata": {},
   "source": [
    "## Combinators"
   ]
  },
  {
   "cell_type": "code",
   "execution_count": 14,
   "metadata": {},
   "outputs": [
    {
     "name": "stdout",
     "output_type": "stream",
     "text": [
      "-- Serial Model --\n",
      "Serial[\n",
      "  LayerNorm\n",
      "  Serial[\n",
      "    Relu\n",
      "  ]\n",
      "  TimesTwo\n",
      "] \n",
      "\n",
      "-- Properties --\n",
      "name : Serial\n",
      "sublayers : [LayerNorm, Serial[\n",
      "  Relu\n",
      "], TimesTwo]\n",
      "expected inputs : 1\n",
      "promised outputs : 1\n",
      "weights & biases: ((Array([1, 1, 1, 1, 1], dtype=int32), Array([0, 0, 0, 0, 0], dtype=int32)), ((), (), ()), ()) \n",
      "\n",
      "-- Inputs --\n",
      "x : [-2 -1  0  1  2] \n",
      "\n",
      "-- Outputs --\n",
      "y : [0.        0.        0.        1.4142132 2.8284264]\n"
     ]
    }
   ],
   "source": [
    "serial = tl.Serial(\n",
    "    tl.LayerNorm(),\n",
    "    tl.Relu(),\n",
    "    times_two\n",
    ")\n",
    "\n",
    "x = np.array([-2, -1, 0, 1, 2]) #input\n",
    "serial.init(shapes.signature(x)) #initialising serial instance\n",
    "\n",
    "print(\"-- Serial Model --\")\n",
    "print(serial,\"\\n\")\n",
    "print(\"-- Properties --\")\n",
    "print(\"name :\", serial.name)\n",
    "print(\"sublayers :\", serial.sublayers)\n",
    "print(\"expected inputs :\", serial.n_in)\n",
    "print(\"promised outputs :\", serial.n_out)\n",
    "print(\"weights & biases:\", serial.weights, \"\\n\")\n",
    "\n",
    "# Inputs\n",
    "print(\"-- Inputs --\")\n",
    "print(\"x :\", x, \"\\n\")\n",
    "\n",
    "# Outputs\n",
    "y = serial(x)\n",
    "print(\"-- Outputs --\")\n",
    "print(\"y :\", y)"
   ]
  }
 ],
 "metadata": {
  "kernelspec": {
   "display_name": "Python 3 (ipykernel)",
   "language": "python",
   "name": "python3"
  },
  "language_info": {
   "codemirror_mode": {
    "name": "ipython",
    "version": 3
   },
   "file_extension": ".py",
   "mimetype": "text/x-python",
   "name": "python",
   "nbconvert_exporter": "python",
   "pygments_lexer": "ipython3",
   "version": "3.10.5"
  },
  "orig_nbformat": 4
 },
 "nbformat": 4,
 "nbformat_minor": 2
}
