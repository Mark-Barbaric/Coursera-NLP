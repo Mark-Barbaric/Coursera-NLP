{
 "cells": [
  {
   "cell_type": "code",
   "execution_count": 1,
   "metadata": {},
   "outputs": [
    {
     "ename": "ImportError",
     "evalue": "cannot import name 'pocketfft' from 'jaxlib' (/home/mbarbaric/.pyenv/versions/coursera-week3/lib/python3.10/site-packages/jaxlib/__init__.py)",
     "output_type": "error",
     "traceback": [
      "\u001b[0;31m---------------------------------------------------------------------------\u001b[0m",
      "\u001b[0;31mImportError\u001b[0m                               Traceback (most recent call last)",
      "Cell \u001b[0;32mIn[1], line 3\u001b[0m\n\u001b[1;32m      1\u001b[0m \u001b[39mimport\u001b[39;00m \u001b[39mnumpy\u001b[39;00m \u001b[39mas\u001b[39;00m \u001b[39mnp\u001b[39;00m  \u001b[39m# regular ol' numpy\u001b[39;00m\n\u001b[0;32m----> 3\u001b[0m \u001b[39mfrom\u001b[39;00m \u001b[39mtrax\u001b[39;00m \u001b[39mimport\u001b[39;00m layers \u001b[39mas\u001b[39;00m tl  \u001b[39m# core building block\u001b[39;00m\n\u001b[1;32m      4\u001b[0m \u001b[39mfrom\u001b[39;00m \u001b[39mtrax\u001b[39;00m \u001b[39mimport\u001b[39;00m shapes  \u001b[39m# data signatures: dimensionality and type\u001b[39;00m\n\u001b[1;32m      5\u001b[0m \u001b[39mfrom\u001b[39;00m \u001b[39mtrax\u001b[39;00m \u001b[39mimport\u001b[39;00m fastmath  \u001b[39m# uses jax, offers numpy on steroids\u001b[39;00m\n",
      "File \u001b[0;32m~/.pyenv/versions/coursera-week3/lib/python3.10/site-packages/trax/__init__.py:18\u001b[0m\n\u001b[1;32m      1\u001b[0m \u001b[39m# coding=utf-8\u001b[39;00m\n\u001b[1;32m      2\u001b[0m \u001b[39m# Copyright 2021 The Trax Authors.\u001b[39;00m\n\u001b[1;32m      3\u001b[0m \u001b[39m#\u001b[39;00m\n\u001b[0;32m   (...)\u001b[0m\n\u001b[1;32m     13\u001b[0m \u001b[39m# See the License for the specific language governing permissions and\u001b[39;00m\n\u001b[1;32m     14\u001b[0m \u001b[39m# limitations under the License.\u001b[39;00m\n\u001b[1;32m     16\u001b[0m \u001b[39m\"\"\"Trax top level import.\"\"\"\u001b[39;00m\n\u001b[0;32m---> 18\u001b[0m \u001b[39mfrom\u001b[39;00m \u001b[39mtrax\u001b[39;00m \u001b[39mimport\u001b[39;00m data\n\u001b[1;32m     19\u001b[0m \u001b[39mfrom\u001b[39;00m \u001b[39mtrax\u001b[39;00m \u001b[39mimport\u001b[39;00m fastmath\n\u001b[1;32m     20\u001b[0m \u001b[39mfrom\u001b[39;00m \u001b[39mtrax\u001b[39;00m \u001b[39mimport\u001b[39;00m layers\n",
      "File \u001b[0;32m~/.pyenv/versions/coursera-week3/lib/python3.10/site-packages/trax/data/__init__.py:36\u001b[0m\n\u001b[1;32m     16\u001b[0m \u001b[39m\"\"\"Functions and classes for obtaining and preprocesing data.\u001b[39;00m\n\u001b[1;32m     17\u001b[0m \n\u001b[1;32m     18\u001b[0m \u001b[39mThe ``trax.data`` module presents a flattened (no subpackages) public API.\u001b[39;00m\n\u001b[0;32m   (...)\u001b[0m\n\u001b[1;32m     31\u001b[0m \n\u001b[1;32m     32\u001b[0m \u001b[39m\"\"\"\u001b[39;00m\n\u001b[1;32m     34\u001b[0m \u001b[39mfrom\u001b[39;00m \u001b[39mtrax\u001b[39;00m\u001b[39m.\u001b[39;00m\u001b[39mdata\u001b[39;00m\u001b[39m.\u001b[39;00m\u001b[39mdebug_data_pipeline\u001b[39;00m \u001b[39mimport\u001b[39;00m debug_pipeline\n\u001b[0;32m---> 36\u001b[0m \u001b[39mfrom\u001b[39;00m \u001b[39mtrax\u001b[39;00m\u001b[39m.\u001b[39;00m\u001b[39mdata\u001b[39;00m\u001b[39m.\u001b[39;00m\u001b[39minputs\u001b[39;00m \u001b[39mimport\u001b[39;00m add_loss_weights\n\u001b[1;32m     37\u001b[0m \u001b[39mfrom\u001b[39;00m \u001b[39mtrax\u001b[39;00m\u001b[39m.\u001b[39;00m\u001b[39mdata\u001b[39;00m\u001b[39m.\u001b[39;00m\u001b[39minputs\u001b[39;00m \u001b[39mimport\u001b[39;00m addition_inputs\n\u001b[1;32m     38\u001b[0m \u001b[39mfrom\u001b[39;00m \u001b[39mtrax\u001b[39;00m\u001b[39m.\u001b[39;00m\u001b[39mdata\u001b[39;00m\u001b[39m.\u001b[39;00m\u001b[39minputs\u001b[39;00m \u001b[39mimport\u001b[39;00m AddLossWeights\n",
      "File \u001b[0;32m~/.pyenv/versions/coursera-week3/lib/python3.10/site-packages/trax/data/inputs.py:83\u001b[0m\n\u001b[1;32m     81\u001b[0m \u001b[39mfrom\u001b[39;00m \u001b[39mabsl\u001b[39;00m \u001b[39mimport\u001b[39;00m logging\n\u001b[1;32m     82\u001b[0m \u001b[39mimport\u001b[39;00m \u001b[39mgin\u001b[39;00m\n\u001b[0;32m---> 83\u001b[0m \u001b[39mimport\u001b[39;00m \u001b[39mjax\u001b[39;00m\n\u001b[1;32m     84\u001b[0m \u001b[39mimport\u001b[39;00m \u001b[39mnumpy\u001b[39;00m \u001b[39mas\u001b[39;00m \u001b[39mnp\u001b[39;00m\n\u001b[1;32m     85\u001b[0m \u001b[39mimport\u001b[39;00m \u001b[39mtensorflow\u001b[39;00m \u001b[39mas\u001b[39;00m \u001b[39mtf\u001b[39;00m\n",
      "File \u001b[0;32m~/.pyenv/versions/coursera-week3/lib/python3.10/site-packages/jax/__init__.py:37\u001b[0m\n\u001b[1;32m     30\u001b[0m \u001b[39mdel\u001b[39;00m _cloud_tpu_init\n\u001b[1;32m     32\u001b[0m \u001b[39m# flake8: noqa: F401\u001b[39;00m\n\u001b[1;32m     33\u001b[0m \n\u001b[1;32m     34\u001b[0m \u001b[39m# Confusingly there are two things named \"config\": the module and the class.\u001b[39;00m\n\u001b[1;32m     35\u001b[0m \u001b[39m# We want the exported object to be the class, so we first import the module\u001b[39;00m\n\u001b[1;32m     36\u001b[0m \u001b[39m# to make sure a later import doesn't overwrite the class.\u001b[39;00m\n\u001b[0;32m---> 37\u001b[0m \u001b[39mfrom\u001b[39;00m \u001b[39m.\u001b[39;00m \u001b[39mimport\u001b[39;00m config \u001b[39mas\u001b[39;00m _config_module\n\u001b[1;32m     38\u001b[0m \u001b[39mdel\u001b[39;00m _config_module\n\u001b[1;32m     40\u001b[0m \u001b[39mfrom\u001b[39;00m \u001b[39m.\u001b[39;00m\u001b[39m_src\u001b[39;00m\u001b[39m.\u001b[39;00m\u001b[39mconfig\u001b[39;00m \u001b[39mimport\u001b[39;00m (\n\u001b[1;32m     41\u001b[0m   config \u001b[39mas\u001b[39;00m config,\n\u001b[1;32m     42\u001b[0m   enable_checks \u001b[39mas\u001b[39;00m enable_checks,\n\u001b[0;32m   (...)\u001b[0m\n\u001b[1;32m     51\u001b[0m   numpy_rank_promotion \u001b[39mas\u001b[39;00m numpy_rank_promotion,\n\u001b[1;32m     52\u001b[0m )\n",
      "File \u001b[0;32m~/.pyenv/versions/coursera-week3/lib/python3.10/site-packages/jax/config.py:18\u001b[0m\n\u001b[1;32m      1\u001b[0m \u001b[39m# Copyright 2018 Google LLC\u001b[39;00m\n\u001b[1;32m      2\u001b[0m \u001b[39m#\u001b[39;00m\n\u001b[1;32m      3\u001b[0m \u001b[39m# Licensed under the Apache License, Version 2.0 (the \"License\");\u001b[39;00m\n\u001b[0;32m   (...)\u001b[0m\n\u001b[1;32m     16\u001b[0m \n\u001b[1;32m     17\u001b[0m \u001b[39m# flake8: noqa: F401\u001b[39;00m\n\u001b[0;32m---> 18\u001b[0m \u001b[39mfrom\u001b[39;00m \u001b[39mjax\u001b[39;00m\u001b[39m.\u001b[39;00m\u001b[39m_src\u001b[39;00m\u001b[39m.\u001b[39;00m\u001b[39mconfig\u001b[39;00m \u001b[39mimport\u001b[39;00m config\n",
      "File \u001b[0;32m~/.pyenv/versions/coursera-week3/lib/python3.10/site-packages/jax/_src/config.py:27\u001b[0m\n\u001b[1;32m     24\u001b[0m \u001b[39mfrom\u001b[39;00m \u001b[39mtyping\u001b[39;00m \u001b[39mimport\u001b[39;00m Any, List, Callable, NamedTuple, Optional\n\u001b[1;32m     25\u001b[0m \u001b[39mimport\u001b[39;00m \u001b[39mwarnings\u001b[39;00m\n\u001b[0;32m---> 27\u001b[0m \u001b[39mfrom\u001b[39;00m \u001b[39mjax\u001b[39;00m\u001b[39m.\u001b[39;00m\u001b[39m_src\u001b[39;00m \u001b[39mimport\u001b[39;00m lib\n\u001b[1;32m     28\u001b[0m \u001b[39mfrom\u001b[39;00m \u001b[39mjax\u001b[39;00m\u001b[39m.\u001b[39;00m\u001b[39m_src\u001b[39;00m\u001b[39m.\u001b[39;00m\u001b[39mlib\u001b[39;00m \u001b[39mimport\u001b[39;00m jax_jit\n\u001b[1;32m     30\u001b[0m \u001b[39mdef\u001b[39;00m \u001b[39mbool_env\u001b[39m(varname: \u001b[39mstr\u001b[39m, default: \u001b[39mbool\u001b[39m) \u001b[39m-\u001b[39m\u001b[39m>\u001b[39m \u001b[39mbool\u001b[39m:\n",
      "File \u001b[0;32m~/.pyenv/versions/coursera-week3/lib/python3.10/site-packages/jax/_src/lib/__init__.py:76\u001b[0m\n\u001b[1;32m     74\u001b[0m \u001b[39mfrom\u001b[39;00m \u001b[39mjaxlib\u001b[39;00m \u001b[39mimport\u001b[39;00m xla_client\n\u001b[1;32m     75\u001b[0m \u001b[39mfrom\u001b[39;00m \u001b[39mjaxlib\u001b[39;00m \u001b[39mimport\u001b[39;00m lapack\n\u001b[0;32m---> 76\u001b[0m \u001b[39mfrom\u001b[39;00m \u001b[39mjaxlib\u001b[39;00m \u001b[39mimport\u001b[39;00m pocketfft\n\u001b[1;32m     78\u001b[0m xla_extension \u001b[39m=\u001b[39m xla_client\u001b[39m.\u001b[39m_xla\n\u001b[1;32m     79\u001b[0m pytree \u001b[39m=\u001b[39m xla_client\u001b[39m.\u001b[39m_xla\u001b[39m.\u001b[39mpytree\n",
      "\u001b[0;31mImportError\u001b[0m: cannot import name 'pocketfft' from 'jaxlib' (/home/mbarbaric/.pyenv/versions/coursera-week3/lib/python3.10/site-packages/jaxlib/__init__.py)"
     ]
    }
   ],
   "source": [
    "import numpy as np  # regular ol' numpy\n",
    "\n",
    "from trax import layers as tl  # core building block\n",
    "from trax import shapes  # data signatures: dimensionality and type\n",
    "from trax import fastmath  # uses jax, offers numpy on steroids"
   ]
  },
  {
   "cell_type": "markdown",
   "metadata": {},
   "source": []
  }
 ],
 "metadata": {
  "kernelspec": {
   "display_name": "Python 3 (ipykernel)",
   "language": "python",
   "name": "python3"
  },
  "language_info": {
   "codemirror_mode": {
    "name": "ipython",
    "version": 3
   },
   "file_extension": ".py",
   "mimetype": "text/x-python",
   "name": "python",
   "nbconvert_exporter": "python",
   "pygments_lexer": "ipython3",
   "version": "3.10.10"
  },
  "orig_nbformat": 4
 },
 "nbformat": 4,
 "nbformat_minor": 2
}
